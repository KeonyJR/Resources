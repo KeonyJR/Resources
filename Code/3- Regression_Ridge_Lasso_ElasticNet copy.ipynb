{
  "cells": [
    {
      "attachments": {},
      "cell_type": "markdown",
      "metadata": {
        "button": false,
        "new_sheet": false,
        "run_control": {
          "read_only": false
        }
      },
      "source": [
        "\n",
        "\n",
        "# **Ridge, Lasso and ElasticNet regression**\n",
        "\n",
        "\n",
        "\n",
        "- **Ridge**\n",
        "\n",
        "Ridge regression addresses some of the problems of Ordinary Least Squares by imposing a penalty on the size of the coefficients with l2 regularization.\n",
        "\n",
        "- **Lasso**\n",
        "\n",
        "The Lasso is a linear model that estimates sparse coefficients with l1 regularization.\n",
        "\n",
        "- **ElasticNet**\n",
        "\n",
        "Elastic-Net is a linear regression model trained with both l1 and l2 -norm regularization of the coefficients.\n",
        "\n",
        "\n"
      ]
    },
    {
      "cell_type": "markdown",
      "metadata": {},
      "source": [
        "## **Resources**\n",
        "\n",
        "What is Ridge Regression? -- > https://www.mygreatlearning.com/blog/what-is-ridge-regression/#:~:text=Ridge%20regression%20is%20a%20model,away%20from%20the%20actual%20values.\n",
        "\n",
        "What is Lasso Regression? -- > https://www.mygreatlearning.com/blog/understanding-of-lasso-regression/\n",
        "\n",
        "Elastic Net, Lasso and Ridge  regression --> https://towardsdatascience.com/ridge-lasso-and-elasticnet-regression-b1f9c00ea3a3"
      ]
    },
    {
      "cell_type": "markdown",
      "metadata": {},
      "source": [
        "## **Reading the Data**"
      ]
    },
    {
      "attachments": {},
      "cell_type": "markdown",
      "metadata": {
        "button": false,
        "new_sheet": false,
        "run_control": {
          "read_only": false
        }
      },
      "source": [
        "### Importing Needed packages\n"
      ]
    },
    {
      "cell_type": "code",
      "execution_count": 1,
      "metadata": {
        "button": false,
        "new_sheet": false,
        "run_control": {
          "read_only": false
        },
        "trusted": true
      },
      "outputs": [],
      "source": [
        "import matplotlib.pyplot as plt\n",
        "import pandas as pd\n",
        "import pylab as pl\n",
        "import numpy as np\n",
        "import os\n"
      ]
    },
    {
      "attachments": {},
      "cell_type": "markdown",
      "metadata": {
        "button": false,
        "new_sheet": false,
        "run_control": {
          "read_only": false
        }
      },
      "source": [
        "### Reading the Data\n"
      ]
    },
    {
      "cell_type": "code",
      "execution_count": 2,
      "metadata": {
        "button": false,
        "new_sheet": false,
        "run_control": {
          "read_only": false
        },
        "trusted": true
      },
      "outputs": [
        {
          "name": "stdout",
          "output_type": "stream",
          "text": [
            "Parent directory: d:\\Github\\Resources\n",
            "d:\\Github\\Resources/Data/FuelConsumptionCo2.csv\n"
          ]
        }
      ],
      "source": [
        "current_directory = os.getcwd() \n",
        "parent_directory = os.path.abspath(os.path.join(current_directory, os.pardir))\n",
        "print(\"Parent directory:\", parent_directory)\n",
        "Data_directory = parent_directory + \"/Data\" + \"/FuelConsumptionCo2.csv\"\n",
        "print(Data_directory)"
      ]
    },
    {
      "cell_type": "code",
      "execution_count": 3,
      "metadata": {
        "button": false,
        "new_sheet": false,
        "run_control": {
          "read_only": false
        },
        "trusted": true
      },
      "outputs": [
        {
          "data": {
            "text/html": [
              "<div>\n",
              "<style scoped>\n",
              "    .dataframe tbody tr th:only-of-type {\n",
              "        vertical-align: middle;\n",
              "    }\n",
              "\n",
              "    .dataframe tbody tr th {\n",
              "        vertical-align: top;\n",
              "    }\n",
              "\n",
              "    .dataframe thead th {\n",
              "        text-align: right;\n",
              "    }\n",
              "</style>\n",
              "<table border=\"1\" class=\"dataframe\">\n",
              "  <thead>\n",
              "    <tr style=\"text-align: right;\">\n",
              "      <th></th>\n",
              "      <th>ENGINESIZE</th>\n",
              "      <th>CYLINDERS</th>\n",
              "      <th>FUELCONSUMPTION_CITY</th>\n",
              "      <th>FUELCONSUMPTION_HWY</th>\n",
              "      <th>FUELCONSUMPTION_COMB</th>\n",
              "      <th>CO2EMISSIONS</th>\n",
              "    </tr>\n",
              "  </thead>\n",
              "  <tbody>\n",
              "    <tr>\n",
              "      <th>0</th>\n",
              "      <td>2.0</td>\n",
              "      <td>4</td>\n",
              "      <td>9.9</td>\n",
              "      <td>6.7</td>\n",
              "      <td>8.5</td>\n",
              "      <td>196</td>\n",
              "    </tr>\n",
              "    <tr>\n",
              "      <th>1</th>\n",
              "      <td>2.4</td>\n",
              "      <td>4</td>\n",
              "      <td>11.2</td>\n",
              "      <td>7.7</td>\n",
              "      <td>9.6</td>\n",
              "      <td>221</td>\n",
              "    </tr>\n",
              "    <tr>\n",
              "      <th>2</th>\n",
              "      <td>1.5</td>\n",
              "      <td>4</td>\n",
              "      <td>6.0</td>\n",
              "      <td>5.8</td>\n",
              "      <td>5.9</td>\n",
              "      <td>136</td>\n",
              "    </tr>\n",
              "    <tr>\n",
              "      <th>3</th>\n",
              "      <td>3.5</td>\n",
              "      <td>6</td>\n",
              "      <td>12.7</td>\n",
              "      <td>9.1</td>\n",
              "      <td>11.1</td>\n",
              "      <td>255</td>\n",
              "    </tr>\n",
              "    <tr>\n",
              "      <th>4</th>\n",
              "      <td>3.5</td>\n",
              "      <td>6</td>\n",
              "      <td>12.1</td>\n",
              "      <td>8.7</td>\n",
              "      <td>10.6</td>\n",
              "      <td>244</td>\n",
              "    </tr>\n",
              "    <tr>\n",
              "      <th>5</th>\n",
              "      <td>3.5</td>\n",
              "      <td>6</td>\n",
              "      <td>11.9</td>\n",
              "      <td>7.7</td>\n",
              "      <td>10.0</td>\n",
              "      <td>230</td>\n",
              "    </tr>\n",
              "    <tr>\n",
              "      <th>6</th>\n",
              "      <td>3.5</td>\n",
              "      <td>6</td>\n",
              "      <td>11.8</td>\n",
              "      <td>8.1</td>\n",
              "      <td>10.1</td>\n",
              "      <td>232</td>\n",
              "    </tr>\n",
              "    <tr>\n",
              "      <th>7</th>\n",
              "      <td>3.7</td>\n",
              "      <td>6</td>\n",
              "      <td>12.8</td>\n",
              "      <td>9.0</td>\n",
              "      <td>11.1</td>\n",
              "      <td>255</td>\n",
              "    </tr>\n",
              "    <tr>\n",
              "      <th>8</th>\n",
              "      <td>3.7</td>\n",
              "      <td>6</td>\n",
              "      <td>13.4</td>\n",
              "      <td>9.5</td>\n",
              "      <td>11.6</td>\n",
              "      <td>267</td>\n",
              "    </tr>\n",
              "  </tbody>\n",
              "</table>\n",
              "</div>"
            ],
            "text/plain": [
              "   ENGINESIZE  CYLINDERS  FUELCONSUMPTION_CITY  FUELCONSUMPTION_HWY  \\\n",
              "0         2.0          4                   9.9                  6.7   \n",
              "1         2.4          4                  11.2                  7.7   \n",
              "2         1.5          4                   6.0                  5.8   \n",
              "3         3.5          6                  12.7                  9.1   \n",
              "4         3.5          6                  12.1                  8.7   \n",
              "5         3.5          6                  11.9                  7.7   \n",
              "6         3.5          6                  11.8                  8.1   \n",
              "7         3.7          6                  12.8                  9.0   \n",
              "8         3.7          6                  13.4                  9.5   \n",
              "\n",
              "   FUELCONSUMPTION_COMB  CO2EMISSIONS  \n",
              "0                   8.5           196  \n",
              "1                   9.6           221  \n",
              "2                   5.9           136  \n",
              "3                  11.1           255  \n",
              "4                  10.6           244  \n",
              "5                  10.0           230  \n",
              "6                  10.1           232  \n",
              "7                  11.1           255  \n",
              "8                  11.6           267  "
            ]
          },
          "execution_count": 3,
          "metadata": {},
          "output_type": "execute_result"
        }
      ],
      "source": [
        "df = pd.read_csv(Data_directory)\n",
        "cdf = df[['ENGINESIZE','CYLINDERS','FUELCONSUMPTION_CITY','FUELCONSUMPTION_HWY','FUELCONSUMPTION_COMB','CO2EMISSIONS']]\n",
        "cdf.head(9)"
      ]
    },
    {
      "cell_type": "code",
      "execution_count": 4,
      "metadata": {
        "button": false,
        "new_sheet": false,
        "run_control": {
          "read_only": false
        },
        "scrolled": true,
        "trusted": true
      },
      "outputs": [
        {
          "data": {
            "image/png": "[encoded data removed]",
            "text/plain": [
              "<Figure size 640x480 with 1 Axes>"
            ]
          },
          "metadata": {},
          "output_type": "display_data"
        }
      ],
      "source": [
        "plt.scatter(cdf.ENGINESIZE, cdf.CO2EMISSIONS,  color='blue')\n",
        "plt.xlabel(\"Engine size\")\n",
        "plt.ylabel(\"Emission\")\n",
        "plt.show()"
      ]
    },
    {
      "attachments": {},
      "cell_type": "markdown",
      "metadata": {
        "button": false,
        "new_sheet": false,
        "run_control": {
          "read_only": false
        }
      },
      "source": [
        "#### Creating train and test dataset\n",
        "\n"
      ]
    },
    {
      "cell_type": "code",
      "execution_count": 5,
      "metadata": {
        "button": false,
        "new_sheet": false,
        "run_control": {
          "read_only": false
        },
        "trusted": true
      },
      "outputs": [],
      "source": [
        "msk = np.random.rand(len(df)) < 0.8\n",
        "train = cdf[msk]\n",
        "test = cdf[~msk]"
      ]
    },
    {
      "attachments": {},
      "cell_type": "markdown",
      "metadata": {
        "button": false,
        "new_sheet": false,
        "run_control": {
          "read_only": false
        }
      },
      "source": [
        "## **Ridge regression**\n"
      ]
    },
    {
      "attachments": {},
      "cell_type": "markdown",
      "metadata": {},
      "source": [
        "Ridge regression is a variation of linear regression that includes an additional regularization term, often referred to as \"L2 regularization,\" to address the problem of multicollinearity and improve the stability of the coefficient estimates. The statement you provided mentions that the assumptions of ridge regression are the same as those of linear regression. Let's briefly explain the three main assumptions:\n",
        "\n",
        "- **Linearity**\n",
        "- **Constant Variance (Homoscedasticity)**\n",
        "- **Independence**\n",
        "\n"
      ]
    },
    {
      "cell_type": "markdown",
      "metadata": {},
      "source": [
        "**The cost function for ridge regression:**\n",
        "\n",
        "Min(||Y – X(theta)||^2 + λ||theta||^2)\n",
        "\n",
        "Lambda is the penalty term. λ given here is denoted by an alpha parameter in the ridge function. So, by changing the values of alpha, we are controlling the penalty term. The higher the values of alpha, the bigger is the penalty and therefore the magnitude of coefficients is reduced."
      ]
    },
    {
      "cell_type": "markdown",
      "metadata": {},
      "source": [
        "### **Standardization**\n",
        "\n",
        "In ridge regression, the first step is to standardize the variables (both dependent and independent) by subtracting their means and dividing by their standard deviations."
      ]
    },
    {
      "cell_type": "code",
      "execution_count": 6,
      "metadata": {},
      "outputs": [
        {
          "data": {
            "text/html": [
              "<style>#sk-container-id-1 {color: black;}#sk-container-id-1 pre{padding: 0;}#sk-container-id-1 div.sk-toggleable {background-color: white;}#sk-container-id-1 label.sk-toggleable__label {cursor: pointer;display: block;width: 100%;margin-bottom: 0;padding: 0.3em;box-sizing: border-box;text-align: center;}#sk-container-id-1 label.sk-toggleable__label-arrow:before {content: \"▸\";float: left;margin-right: 0.25em;color: #696969;}#sk-container-id-1 label.sk-toggleable__label-arrow:hover:before {color: black;}#sk-container-id-1 div.sk-estimator:hover label.sk-toggleable__label-arrow:before {color: black;}#sk-container-id-1 div.sk-toggleable__content {max-height: 0;max-width: 0;overflow: hidden;text-align: left;background-color: #f0f8ff;}#sk-container-id-1 div.sk-toggleable__content pre {margin: 0.2em;color: black;border-radius: 0.25em;background-color: #f0f8ff;}#sk-container-id-1 input.sk-toggleable__control:checked~div.sk-toggleable__content {max-height: 200px;max-width: 100%;overflow: auto;}#sk-container-id-1 input.sk-toggleable__control:checked~label.sk-toggleable__label-arrow:before {content: \"▾\";}#sk-container-id-1 div.sk-estimator input.sk-toggleable__control:checked~label.sk-toggleable__label {background-color: #d4ebff;}#sk-container-id-1 div.sk-label input.sk-toggleable__control:checked~label.sk-toggleable__label {background-color: #d4ebff;}#sk-container-id-1 input.sk-hidden--visually {border: 0;clip: rect(1px 1px 1px 1px);clip: rect(1px, 1px, 1px, 1px);height: 1px;margin: -1px;overflow: hidden;padding: 0;position: absolute;width: 1px;}#sk-container-id-1 div.sk-estimator {font-family: monospace;background-color: #f0f8ff;border: 1px dotted black;border-radius: 0.25em;box-sizing: border-box;margin-bottom: 0.5em;}#sk-container-id-1 div.sk-estimator:hover {background-color: #d4ebff;}#sk-container-id-1 div.sk-parallel-item::after {content: \"\";width: 100%;border-bottom: 1px solid gray;flex-grow: 1;}#sk-container-id-1 div.sk-label:hover label.sk-toggleable__label {background-color: #d4ebff;}#sk-container-id-1 div.sk-serial::before {content: \"\";position: absolute;border-left: 1px solid gray;box-sizing: border-box;top: 0;bottom: 0;left: 50%;z-index: 0;}#sk-container-id-1 div.sk-serial {display: flex;flex-direction: column;align-items: center;background-color: white;padding-right: 0.2em;padding-left: 0.2em;position: relative;}#sk-container-id-1 div.sk-item {position: relative;z-index: 1;}#sk-container-id-1 div.sk-parallel {display: flex;align-items: stretch;justify-content: center;background-color: white;position: relative;}#sk-container-id-1 div.sk-item::before, #sk-container-id-1 div.sk-parallel-item::before {content: \"\";position: absolute;border-left: 1px solid gray;box-sizing: border-box;top: 0;bottom: 0;left: 50%;z-index: -1;}#sk-container-id-1 div.sk-parallel-item {display: flex;flex-direction: column;z-index: 1;position: relative;background-color: white;}#sk-container-id-1 div.sk-parallel-item:first-child::after {align-self: flex-end;width: 50%;}#sk-container-id-1 div.sk-parallel-item:last-child::after {align-self: flex-start;width: 50%;}#sk-container-id-1 div.sk-parallel-item:only-child::after {width: 0;}#sk-container-id-1 div.sk-dashed-wrapped {border: 1px dashed gray;margin: 0 0.4em 0.5em 0.4em;box-sizing: border-box;padding-bottom: 0.4em;background-color: white;}#sk-container-id-1 div.sk-label label {font-family: monospace;font-weight: bold;display: inline-block;line-height: 1.2em;}#sk-container-id-1 div.sk-label-container {text-align: center;}#sk-container-id-1 div.sk-container {/* jupyter's `normalize.less` sets `[hidden] { display: none; }` but bootstrap.min.css set `[hidden] { display: none !important; }` so we also need the `!important` here to be able to override the default hidden behavior on the sphinx rendered scikit-learn.org. See: https://github.com/scikit-learn/scikit-learn/issues/21755 */display: inline-block !important;position: relative;}#sk-container-id-1 div.sk-text-repr-fallback {display: none;}</style><div id=\"sk-container-id-1\" class=\"sk-top-container\"><div class=\"sk-text-repr-fallback\"><pre>StandardScaler()</pre><b>In a Jupyter environment, please rerun this cell to show the HTML representation or trust the notebook. <br />On GitHub, the HTML representation is unable to render, please try loading this page with nbviewer.org.</b></div><div class=\"sk-container\" hidden><div class=\"sk-item\"><div class=\"sk-estimator sk-toggleable\"><input class=\"sk-toggleable__control sk-hidden--visually\" id=\"sk-estimator-id-1\" type=\"checkbox\" checked><label for=\"sk-estimator-id-1\" class=\"sk-toggleable__label sk-toggleable__label-arrow\">StandardScaler</label><div class=\"sk-toggleable__content\"><pre>StandardScaler()</pre></div></div></div></div></div>"
            ],
            "text/plain": [
              "StandardScaler()"
            ]
          },
          "execution_count": 6,
          "metadata": {},
          "output_type": "execute_result"
        }
      ],
      "source": [
        "from sklearn.preprocessing import StandardScaler\n",
        "std_scale = StandardScaler()\n",
        "std_scale"
      ]
    },
    {
      "cell_type": "code",
      "execution_count": 7,
      "metadata": {},
      "outputs": [
        {
          "data": {
            "text/html": [
              "<div>\n",
              "<style scoped>\n",
              "    .dataframe tbody tr th:only-of-type {\n",
              "        vertical-align: middle;\n",
              "    }\n",
              "\n",
              "    .dataframe tbody tr th {\n",
              "        vertical-align: top;\n",
              "    }\n",
              "\n",
              "    .dataframe thead th {\n",
              "        text-align: right;\n",
              "    }\n",
              "</style>\n",
              "<table border=\"1\" class=\"dataframe\">\n",
              "  <thead>\n",
              "    <tr style=\"text-align: right;\">\n",
              "      <th></th>\n",
              "      <th>ENGINESIZE</th>\n",
              "      <th>CYLINDERS</th>\n",
              "      <th>FUELCONSUMPTION_CITY</th>\n",
              "      <th>FUELCONSUMPTION_HWY</th>\n",
              "      <th>FUELCONSUMPTION_COMB</th>\n",
              "      <th>CO2EMISSIONS</th>\n",
              "    </tr>\n",
              "  </thead>\n",
              "  <tbody>\n",
              "    <tr>\n",
              "      <th>0</th>\n",
              "      <td>2.0</td>\n",
              "      <td>4</td>\n",
              "      <td>9.9</td>\n",
              "      <td>6.7</td>\n",
              "      <td>8.5</td>\n",
              "      <td>196</td>\n",
              "    </tr>\n",
              "    <tr>\n",
              "      <th>1</th>\n",
              "      <td>2.4</td>\n",
              "      <td>4</td>\n",
              "      <td>11.2</td>\n",
              "      <td>7.7</td>\n",
              "      <td>9.6</td>\n",
              "      <td>221</td>\n",
              "    </tr>\n",
              "    <tr>\n",
              "      <th>2</th>\n",
              "      <td>1.5</td>\n",
              "      <td>4</td>\n",
              "      <td>6.0</td>\n",
              "      <td>5.8</td>\n",
              "      <td>5.9</td>\n",
              "      <td>136</td>\n",
              "    </tr>\n",
              "    <tr>\n",
              "      <th>3</th>\n",
              "      <td>3.5</td>\n",
              "      <td>6</td>\n",
              "      <td>12.7</td>\n",
              "      <td>9.1</td>\n",
              "      <td>11.1</td>\n",
              "      <td>255</td>\n",
              "    </tr>\n",
              "    <tr>\n",
              "      <th>4</th>\n",
              "      <td>3.5</td>\n",
              "      <td>6</td>\n",
              "      <td>12.1</td>\n",
              "      <td>8.7</td>\n",
              "      <td>10.6</td>\n",
              "      <td>244</td>\n",
              "    </tr>\n",
              "    <tr>\n",
              "      <th>...</th>\n",
              "      <td>...</td>\n",
              "      <td>...</td>\n",
              "      <td>...</td>\n",
              "      <td>...</td>\n",
              "      <td>...</td>\n",
              "      <td>...</td>\n",
              "    </tr>\n",
              "    <tr>\n",
              "      <th>1061</th>\n",
              "      <td>3.2</td>\n",
              "      <td>6</td>\n",
              "      <td>13.0</td>\n",
              "      <td>8.9</td>\n",
              "      <td>11.2</td>\n",
              "      <td>258</td>\n",
              "    </tr>\n",
              "    <tr>\n",
              "      <th>1062</th>\n",
              "      <td>3.0</td>\n",
              "      <td>6</td>\n",
              "      <td>13.4</td>\n",
              "      <td>9.8</td>\n",
              "      <td>11.8</td>\n",
              "      <td>271</td>\n",
              "    </tr>\n",
              "    <tr>\n",
              "      <th>1063</th>\n",
              "      <td>3.2</td>\n",
              "      <td>6</td>\n",
              "      <td>13.2</td>\n",
              "      <td>9.5</td>\n",
              "      <td>11.5</td>\n",
              "      <td>264</td>\n",
              "    </tr>\n",
              "    <tr>\n",
              "      <th>1064</th>\n",
              "      <td>3.0</td>\n",
              "      <td>6</td>\n",
              "      <td>13.4</td>\n",
              "      <td>9.8</td>\n",
              "      <td>11.8</td>\n",
              "      <td>271</td>\n",
              "    </tr>\n",
              "    <tr>\n",
              "      <th>1066</th>\n",
              "      <td>3.2</td>\n",
              "      <td>6</td>\n",
              "      <td>14.9</td>\n",
              "      <td>10.2</td>\n",
              "      <td>12.8</td>\n",
              "      <td>294</td>\n",
              "    </tr>\n",
              "  </tbody>\n",
              "</table>\n",
              "<p>820 rows × 6 columns</p>\n",
              "</div>"
            ],
            "text/plain": [
              "      ENGINESIZE  CYLINDERS  FUELCONSUMPTION_CITY  FUELCONSUMPTION_HWY  \\\n",
              "0            2.0          4                   9.9                  6.7   \n",
              "1            2.4          4                  11.2                  7.7   \n",
              "2            1.5          4                   6.0                  5.8   \n",
              "3            3.5          6                  12.7                  9.1   \n",
              "4            3.5          6                  12.1                  8.7   \n",
              "...          ...        ...                   ...                  ...   \n",
              "1061         3.2          6                  13.0                  8.9   \n",
              "1062         3.0          6                  13.4                  9.8   \n",
              "1063         3.2          6                  13.2                  9.5   \n",
              "1064         3.0          6                  13.4                  9.8   \n",
              "1066         3.2          6                  14.9                 10.2   \n",
              "\n",
              "      FUELCONSUMPTION_COMB  CO2EMISSIONS  \n",
              "0                      8.5           196  \n",
              "1                      9.6           221  \n",
              "2                      5.9           136  \n",
              "3                     11.1           255  \n",
              "4                     10.6           244  \n",
              "...                    ...           ...  \n",
              "1061                  11.2           258  \n",
              "1062                  11.8           271  \n",
              "1063                  11.5           264  \n",
              "1064                  11.8           271  \n",
              "1066                  12.8           294  \n",
              "\n",
              "[820 rows x 6 columns]"
            ]
          },
          "execution_count": 7,
          "metadata": {},
          "output_type": "execute_result"
        }
      ],
      "source": [
        "train[['ENGINESIZE','CYLINDERS','FUELCONSUMPTION_CITY','FUELCONSUMPTION_HWY','FUELCONSUMPTION_COMB','CO2EMISSIONS']]"
      ]
    },
    {
      "cell_type": "code",
      "execution_count": 8,
      "metadata": {},
      "outputs": [
        {
          "name": "stderr",
          "output_type": "stream",
          "text": [
            "C:\\Users\\keoni\\AppData\\Local\\Temp\\ipykernel_11876\\269553630.py:1: SettingWithCopyWarning: \n",
            "A value is trying to be set on a copy of a slice from a DataFrame.\n",
            "Try using .loc[row_indexer,col_indexer] = value instead\n",
            "\n",
            "See the caveats in the documentation: https://pandas.pydata.org/pandas-docs/stable/user_guide/indexing.html#returning-a-view-versus-a-copy\n",
            "  train[['ENGINESIZE','CYLINDERS','FUELCONSUMPTION_CITY','FUELCONSUMPTION_HWY','FUELCONSUMPTION_COMB','CO2EMISSIONS']]= std_scale.fit_transform(train[['ENGINESIZE','CYLINDERS','FUELCONSUMPTION_CITY','FUELCONSUMPTION_HWY','FUELCONSUMPTION_COMB','CO2EMISSIONS']])\n",
            "C:\\Users\\keoni\\AppData\\Local\\Temp\\ipykernel_11876\\269553630.py:2: SettingWithCopyWarning: \n",
            "A value is trying to be set on a copy of a slice from a DataFrame.\n",
            "Try using .loc[row_indexer,col_indexer] = value instead\n",
            "\n",
            "See the caveats in the documentation: https://pandas.pydata.org/pandas-docs/stable/user_guide/indexing.html#returning-a-view-versus-a-copy\n",
            "  test[['ENGINESIZE','CYLINDERS','FUELCONSUMPTION_CITY','FUELCONSUMPTION_HWY','FUELCONSUMPTION_COMB','CO2EMISSIONS']]= std_scale.fit_transform(test[['ENGINESIZE','CYLINDERS','FUELCONSUMPTION_CITY','FUELCONSUMPTION_HWY','FUELCONSUMPTION_COMB','CO2EMISSIONS']])\n"
          ]
        },
        {
          "data": {
            "text/html": [
              "<div>\n",
              "<style scoped>\n",
              "    .dataframe tbody tr th:only-of-type {\n",
              "        vertical-align: middle;\n",
              "    }\n",
              "\n",
              "    .dataframe tbody tr th {\n",
              "        vertical-align: top;\n",
              "    }\n",
              "\n",
              "    .dataframe thead th {\n",
              "        text-align: right;\n",
              "    }\n",
              "</style>\n",
              "<table border=\"1\" class=\"dataframe\">\n",
              "  <thead>\n",
              "    <tr style=\"text-align: right;\">\n",
              "      <th></th>\n",
              "      <th>ENGINESIZE</th>\n",
              "      <th>CYLINDERS</th>\n",
              "      <th>FUELCONSUMPTION_CITY</th>\n",
              "      <th>FUELCONSUMPTION_HWY</th>\n",
              "      <th>FUELCONSUMPTION_COMB</th>\n",
              "      <th>CO2EMISSIONS</th>\n",
              "    </tr>\n",
              "  </thead>\n",
              "  <tbody>\n",
              "    <tr>\n",
              "      <th>0</th>\n",
              "      <td>-0.956740</td>\n",
              "      <td>-1.005274</td>\n",
              "      <td>-0.840190</td>\n",
              "      <td>-1.000069</td>\n",
              "      <td>-0.894637</td>\n",
              "      <td>-0.964334</td>\n",
              "    </tr>\n",
              "    <tr>\n",
              "      <th>1</th>\n",
              "      <td>-0.669183</td>\n",
              "      <td>-1.005274</td>\n",
              "      <td>-0.516900</td>\n",
              "      <td>-0.640426</td>\n",
              "      <td>-0.574477</td>\n",
              "      <td>-0.566370</td>\n",
              "    </tr>\n",
              "    <tr>\n",
              "      <th>2</th>\n",
              "      <td>-1.316186</td>\n",
              "      <td>-1.005274</td>\n",
              "      <td>-1.810060</td>\n",
              "      <td>-1.323747</td>\n",
              "      <td>-1.651378</td>\n",
              "      <td>-1.919446</td>\n",
              "    </tr>\n",
              "    <tr>\n",
              "      <th>3</th>\n",
              "      <td>0.121598</td>\n",
              "      <td>0.122393</td>\n",
              "      <td>-0.143873</td>\n",
              "      <td>-0.136927</td>\n",
              "      <td>-0.137896</td>\n",
              "      <td>-0.025140</td>\n",
              "    </tr>\n",
              "    <tr>\n",
              "      <th>4</th>\n",
              "      <td>0.121598</td>\n",
              "      <td>0.122393</td>\n",
              "      <td>-0.293084</td>\n",
              "      <td>-0.280784</td>\n",
              "      <td>-0.283423</td>\n",
              "      <td>-0.200244</td>\n",
              "    </tr>\n",
              "    <tr>\n",
              "      <th>...</th>\n",
              "      <td>...</td>\n",
              "      <td>...</td>\n",
              "      <td>...</td>\n",
              "      <td>...</td>\n",
              "      <td>...</td>\n",
              "      <td>...</td>\n",
              "    </tr>\n",
              "    <tr>\n",
              "      <th>1061</th>\n",
              "      <td>-0.094070</td>\n",
              "      <td>0.122393</td>\n",
              "      <td>-0.069268</td>\n",
              "      <td>-0.208856</td>\n",
              "      <td>-0.108790</td>\n",
              "      <td>0.022616</td>\n",
              "    </tr>\n",
              "    <tr>\n",
              "      <th>1062</th>\n",
              "      <td>-0.237848</td>\n",
              "      <td>0.122393</td>\n",
              "      <td>0.030206</td>\n",
              "      <td>0.114822</td>\n",
              "      <td>0.065842</td>\n",
              "      <td>0.229557</td>\n",
              "    </tr>\n",
              "    <tr>\n",
              "      <th>1063</th>\n",
              "      <td>-0.094070</td>\n",
              "      <td>0.122393</td>\n",
              "      <td>-0.019531</td>\n",
              "      <td>0.006930</td>\n",
              "      <td>-0.021474</td>\n",
              "      <td>0.118127</td>\n",
              "    </tr>\n",
              "    <tr>\n",
              "      <th>1064</th>\n",
              "      <td>-0.237848</td>\n",
              "      <td>0.122393</td>\n",
              "      <td>0.030206</td>\n",
              "      <td>0.114822</td>\n",
              "      <td>0.065842</td>\n",
              "      <td>0.229557</td>\n",
              "    </tr>\n",
              "    <tr>\n",
              "      <th>1066</th>\n",
              "      <td>-0.094070</td>\n",
              "      <td>0.122393</td>\n",
              "      <td>0.403233</td>\n",
              "      <td>0.258679</td>\n",
              "      <td>0.356896</td>\n",
              "      <td>0.595684</td>\n",
              "    </tr>\n",
              "  </tbody>\n",
              "</table>\n",
              "<p>820 rows × 6 columns</p>\n",
              "</div>"
            ],
            "text/plain": [
              "      ENGINESIZE  CYLINDERS  FUELCONSUMPTION_CITY  FUELCONSUMPTION_HWY  \\\n",
              "0      -0.956740  -1.005274             -0.840190            -1.000069   \n",
              "1      -0.669183  -1.005274             -0.516900            -0.640426   \n",
              "2      -1.316186  -1.005274             -1.810060            -1.323747   \n",
              "3       0.121598   0.122393             -0.143873            -0.136927   \n",
              "4       0.121598   0.122393             -0.293084            -0.280784   \n",
              "...          ...        ...                   ...                  ...   \n",
              "1061   -0.094070   0.122393             -0.069268            -0.208856   \n",
              "1062   -0.237848   0.122393              0.030206             0.114822   \n",
              "1063   -0.094070   0.122393             -0.019531             0.006930   \n",
              "1064   -0.237848   0.122393              0.030206             0.114822   \n",
              "1066   -0.094070   0.122393              0.403233             0.258679   \n",
              "\n",
              "      FUELCONSUMPTION_COMB  CO2EMISSIONS  \n",
              "0                -0.894637     -0.964334  \n",
              "1                -0.574477     -0.566370  \n",
              "2                -1.651378     -1.919446  \n",
              "3                -0.137896     -0.025140  \n",
              "4                -0.283423     -0.200244  \n",
              "...                    ...           ...  \n",
              "1061             -0.108790      0.022616  \n",
              "1062              0.065842      0.229557  \n",
              "1063             -0.021474      0.118127  \n",
              "1064              0.065842      0.229557  \n",
              "1066              0.356896      0.595684  \n",
              "\n",
              "[820 rows x 6 columns]"
            ]
          },
          "execution_count": 8,
          "metadata": {},
          "output_type": "execute_result"
        }
      ],
      "source": [
        "train[['ENGINESIZE','CYLINDERS','FUELCONSUMPTION_CITY','FUELCONSUMPTION_HWY','FUELCONSUMPTION_COMB','CO2EMISSIONS']]= std_scale.fit_transform(train[['ENGINESIZE','CYLINDERS','FUELCONSUMPTION_CITY','FUELCONSUMPTION_HWY','FUELCONSUMPTION_COMB','CO2EMISSIONS']])\n",
        "test[['ENGINESIZE','CYLINDERS','FUELCONSUMPTION_CITY','FUELCONSUMPTION_HWY','FUELCONSUMPTION_COMB','CO2EMISSIONS']]= std_scale.fit_transform(test[['ENGINESIZE','CYLINDERS','FUELCONSUMPTION_CITY','FUELCONSUMPTION_HWY','FUELCONSUMPTION_COMB','CO2EMISSIONS']])\n",
        "train"
      ]
    },
    {
      "cell_type": "code",
      "execution_count": 21,
      "metadata": {},
      "outputs": [],
      "source": [
        "col= ['ENGINESIZE','CYLINDERS','FUELCONSUMPTION_CITY',\t'FUELCONSUMPTION_HWY','FUELCONSUMPTION_COMB']\n",
        "X_train = np.asanyarray(train[col])\n",
        "y_train = np.asanyarray(train[['CO2EMISSIONS']])\n",
        "X_test= np.asanyarray(test[col])\n",
        "y_test = np.asanyarray(test[['CO2EMISSIONS']])"
      ]
    },
    {
      "cell_type": "markdown",
      "metadata": {},
      "source": [
        "### **Linear Regression**: Baseline"
      ]
    },
    {
      "cell_type": "code",
      "execution_count": 22,
      "metadata": {
        "button": false,
        "new_sheet": false,
        "run_control": {
          "read_only": false
        },
        "trusted": true
      },
      "outputs": [
        {
          "name": "stdout",
          "output_type": "stream",
          "text": [
            "Coefficients:  [[ 0.25330564  0.20537767 -0.07432422 -0.07673215  0.67348755]]\n"
          ]
        }
      ],
      "source": [
        "from sklearn import linear_model\n",
        "regression_model  = linear_model.LinearRegression()\n",
        "\n",
        "regression_model .fit (X_train, y_train)\n",
        "# The coefficients\n",
        "print ('Coefficients: ', regression_model.coef_)"
      ]
    },
    {
      "cell_type": "code",
      "execution_count": 23,
      "metadata": {},
      "outputs": [
        {
          "name": "stdout",
          "output_type": "stream",
          "text": [
            "The coefficient for ENGINESIZE is 0.2533056441147977\n",
            "The coefficient for CYLINDERS is 0.20537766820119047\n",
            "The coefficient for FUELCONSUMPTION_CITY is -0.07432422175644798\n",
            "The coefficient for FUELCONSUMPTION_HWY is -0.07673215182510656\n",
            "The coefficient for FUELCONSUMPTION_COMB is 0.6734875505368529\n"
          ]
        }
      ],
      "source": [
        "for idx, col_name in enumerate(col):\n",
        "    print(\"The coefficient for {} is {}\".format(col_name, regression_model.coef_[0][idx]))"
      ]
    },
    {
      "cell_type": "code",
      "execution_count": 24,
      "metadata": {},
      "outputs": [
        {
          "data": {
            "image/png": "[encoded data removed]",
            "text/plain": [
              "<Figure size 1000x800 with 1 Axes>"
            ]
          },
          "metadata": {},
          "output_type": "display_data"
        }
      ],
      "source": [
        "#checking the magnitude of coefficients\n",
        "from pandas import Series, DataFrame\n",
        "predictors = col\n",
        " \n",
        "coef = Series(regression_model.coef_.flatten(), predictors).sort_values()\n",
        "plt.figure(figsize=(10,8))\n",
        " \n",
        "coef.plot(kind='bar', title='Model Coefficients')\n",
        "plt.show()"
      ]
    },
    {
      "cell_type": "code",
      "execution_count": 25,
      "metadata": {},
      "outputs": [
        {
          "name": "stdout",
          "output_type": "stream",
          "text": [
            "Residual sum of squares: 0.14\n",
            "Variance score: 0.86\n",
            "R2-score: 0.84\n"
          ]
        }
      ],
      "source": [
        "from sklearn.metrics import r2_score\n",
        "y_hat= regression_model.predict(X_test)\n",
        "x = np.asanyarray(X_test)\n",
        "y = np.asanyarray(y_test)\n",
        "print(\"Residual sum of squares: %.2f\"\n",
        "      % np.mean((y_hat - y) ** 2))\n",
        "\n",
        "# Explained variance score: 1 is perfect prediction\n",
        "print('Variance score: %.2f' % regression_model.score(x, y))\n",
        "print(\"R2-score: %.2f\" % r2_score(y_hat ,y) )"
      ]
    },
    {
      "attachments": {},
      "cell_type": "markdown",
      "metadata": {},
      "source": [
        "### **Regularization**\n"
      ]
    },
    {
      "cell_type": "markdown",
      "metadata": {},
      "source": [
        "- 1) Value of alpha, which is a hyperparameter of Ridge, which means that they are not automatically learned by the model instead they have to be set manually. We run a grid search for optimum alpha values\n",
        "- 2) To find optimum alpha for Ridge Regularization we are applying GridSearchCV"
      ]
    },
    {
      "cell_type": "code",
      "execution_count": 26,
      "metadata": {},
      "outputs": [
        {
          "name": "stdout",
          "output_type": "stream",
          "text": [
            "{'alpha': 100.0}\n",
            "-0.14818710200277496\n",
            "The coefficient for ENGINESIZE is 0.2253284257948425\n",
            "The coefficient for CYLINDERS is 0.21302908116035826\n",
            "The coefficient for FUELCONSUMPTION_CITY is 0.20147025573466093\n",
            "The coefficient for FUELCONSUMPTION_HWY is 0.14336763573761244\n",
            "The coefficient for FUELCONSUMPTION_COMB is 0.1829288294769121\n"
          ]
        }
      ],
      "source": [
        "from sklearn.linear_model import Ridge\n",
        "from sklearn.model_selection import GridSearchCV\n",
        "\n",
        "X=np.concatenate([X_test, X_train], axis=0)\n",
        "y=np.concatenate([y_test, y_train], axis=0)\n",
        "\n",
        "ridge=Ridge()\n",
        "alpha= np.linspace(1e-15, 100, 1000)\n",
        "\n",
        "parameters={'alpha':alpha}\n",
        "ridge_regressor=GridSearchCV(ridge,parameters,scoring='neg_mean_squared_error',cv=5)\n",
        "ridge_regressor.fit(X,y)\n",
        "\n",
        "print(ridge_regressor.best_params_)\n",
        "print(ridge_regressor.best_score_)\n",
        "\n",
        "# The negative sign is because of the known error in the Grid Search Cross Validation library, so ignore the negative sign.\n",
        "best_ridge_model = ridge_regressor.best_estimator_\n",
        "for idx, col_name in enumerate(col):\n",
        "    print(\"The coefficient for {} is {}\".format(col_name, best_ridge_model.coef_[0][idx]))"
      ]
    },
    {
      "cell_type": "code",
      "execution_count": 27,
      "metadata": {},
      "outputs": [
        {
          "name": "stdout",
          "output_type": "stream",
          "text": [
            "Residual sum of squares: 0.14\n",
            "Variance score: 0.86\n",
            "R2-score: 0.84\n"
          ]
        }
      ],
      "source": [
        "best_ridge_model = ridge_regressor.best_estimator_\n",
        "y_hat = best_ridge_model.predict(X_test)\n",
        "x = np.asanyarray(X_test)\n",
        "y = np.asanyarray(y_test)\n",
        "print(\"Residual sum of squares: %.2f\"\n",
        "      % np.mean((y_hat - y) ** 2))\n",
        "\n",
        "# Explained variance score: 1 is perfect prediction\n",
        "print('Variance score: %.2f' % best_ridge_model.score(x, y))\n",
        "print(\"R2-score: %.2f\" % r2_score(y_hat ,y) )"
      ]
    },
    {
      "cell_type": "code",
      "execution_count": 28,
      "metadata": {},
      "outputs": [
        {
          "data": {
            "image/png": "[encoded data removed]",
            "text/plain": [
              "<Figure size 1000x800 with 1 Axes>"
            ]
          },
          "metadata": {},
          "output_type": "display_data"
        }
      ],
      "source": [
        "predictors = col\n",
        " \n",
        "coef = Series(best_ridge_model.coef_.flatten(),predictors).sort_values()\n",
        "plt.figure(figsize=(10,8))\n",
        "coef.plot(kind='bar', title='Model Coefficients')\n",
        "plt.show()"
      ]
    },
    {
      "cell_type": "markdown",
      "metadata": {},
      "source": [
        "## **LASSO regression** "
      ]
    },
    {
      "cell_type": "markdown",
      "metadata": {},
      "source": [
        "LASSO stands for Least Absolute Shrinkage and Selection Operator.\n",
        "\n",
        "The primary goal of LASSO regression is to find a balance between model simplicity and accuracy. It achieves this by adding a penalty term to the traditional linear regression model, which encourages sparse solutions where some coefficients are forced to be exactly zero.This feature makes LASSO particularly useful for feature selection, as it can automatically identify and discard irrelevant or redundant variables.\n",
        "\n",
        "Lasso Regression uses L1 regularization technique . It is used when we have more features because it automatically performs feature selection.\n",
        "\n",
        "**Mathematical equation of Lasso Regression**\n",
        "\n",
        "\n",
        "- Residual Sum of Squares + λ * (Sum of the absolute value of the magnitude of coefficients)\n",
        "\n",
        "Where,\n",
        "\n",
        "λ denotes the amount of shrinkage.\n",
        "λ = 0 implies all features are considered and it is equivalent to the linear regression where only the residual sum of squares is considered to build a predictive model\n",
        "λ = ∞ implies no feature is considered i.e, as λ closes to infinity it eliminates more and more features\n",
        "The bias increases with increase in λ\n",
        "variance increases with decrease in λ"
      ]
    },
    {
      "cell_type": "code",
      "execution_count": 29,
      "metadata": {},
      "outputs": [
        {
          "name": "stderr",
          "output_type": "stream",
          "text": [
            "c:\\Users\\keoni\\AppData\\Local\\Programs\\Python\\Python311\\Lib\\site-packages\\sklearn\\linear_model\\_coordinate_descent.py:628: ConvergenceWarning: Objective did not converge. You might want to increase the number of iterations, check the scale of the features or consider increasing regularisation. Duality gap: 4.789e+01, tolerance: 6.668e-02 Linear regression models with null weight for the l1 regularization term are more efficiently fitted using one of the solvers implemented in sklearn.linear_model.Ridge/RidgeCV instead.\n",
            "  model = cd_fast.enet_coordinate_descent(\n",
            "c:\\Users\\keoni\\AppData\\Local\\Programs\\Python\\Python311\\Lib\\site-packages\\sklearn\\linear_model\\_coordinate_descent.py:628: ConvergenceWarning: Objective did not converge. You might want to increase the number of iterations, check the scale of the features or consider increasing regularisation. Duality gap: 3.445e+01, tolerance: 6.122e-02 Linear regression models with null weight for the l1 regularization term are more efficiently fitted using one of the solvers implemented in sklearn.linear_model.Ridge/RidgeCV instead.\n",
            "  model = cd_fast.enet_coordinate_descent(\n",
            "c:\\Users\\keoni\\AppData\\Local\\Programs\\Python\\Python311\\Lib\\site-packages\\sklearn\\linear_model\\_coordinate_descent.py:628: ConvergenceWarning: Objective did not converge. You might want to increase the number of iterations, check the scale of the features or consider increasing regularisation. Duality gap: 4.105e+01, tolerance: 6.643e-02 Linear regression models with null weight for the l1 regularization term are more efficiently fitted using one of the solvers implemented in sklearn.linear_model.Ridge/RidgeCV instead.\n",
            "  model = cd_fast.enet_coordinate_descent(\n",
            "c:\\Users\\keoni\\AppData\\Local\\Programs\\Python\\Python311\\Lib\\site-packages\\sklearn\\linear_model\\_coordinate_descent.py:628: ConvergenceWarning: Objective did not converge. You might want to increase the number of iterations, check the scale of the features or consider increasing regularisation. Duality gap: 4.724e+01, tolerance: 6.596e-02 Linear regression models with null weight for the l1 regularization term are more efficiently fitted using one of the solvers implemented in sklearn.linear_model.Ridge/RidgeCV instead.\n",
            "  model = cd_fast.enet_coordinate_descent(\n",
            "c:\\Users\\keoni\\AppData\\Local\\Programs\\Python\\Python311\\Lib\\site-packages\\sklearn\\linear_model\\_coordinate_descent.py:628: ConvergenceWarning: Objective did not converge. You might want to increase the number of iterations, check the scale of the features or consider increasing regularisation. Duality gap: 4.814e+01, tolerance: 6.708e-02 Linear regression models with null weight for the l1 regularization term are more efficiently fitted using one of the solvers implemented in sklearn.linear_model.Ridge/RidgeCV instead.\n",
            "  model = cd_fast.enet_coordinate_descent(\n"
          ]
        },
        {
          "name": "stdout",
          "output_type": "stream",
          "text": [
            "Best Params: {'alpha': 0.022022022022022022}\n",
            "Best Score (negative mean squared error): -0.15739394923910957\n",
            "The coefficient for ENGINESIZE is 0.2505564869765865\n",
            "The coefficient for CYLINDERS is 0.19264014578849858\n",
            "The coefficient for FUELCONSUMPTION_CITY is 0.20161551101274047\n",
            "The coefficient for FUELCONSUMPTION_HWY is 0.05551056535659165\n",
            "The coefficient for FUELCONSUMPTION_COMB is 0.2585954251730471\n"
          ]
        }
      ],
      "source": [
        "import numpy as np\n",
        "import pandas as pd\n",
        "from sklearn.linear_model import Lasso\n",
        "from sklearn.model_selection import GridSearchCV\n",
        "\n",
        "\n",
        "\n",
        "# Definir el modelo y los hiperparámetros a buscar\n",
        "lasso = Lasso()\n",
        "alpha= np.linspace(1e-100, 1, 1000)\n",
        "parameters = {'alpha': alpha}\n",
        "\n",
        "# Crear el objeto GridSearchCV\n",
        "lasso_regressor = GridSearchCV(lasso, parameters, scoring='neg_mean_squared_error', cv=5)\n",
        "\n",
        "# Entrenar el modelo\n",
        "lasso_regressor.fit(X_train, y_train)\n",
        "\n",
        "# Ver los resultados del mejor modelo\n",
        "print(\"Best Params:\", lasso_regressor.best_params_)\n",
        "print(\"Best Score (negative mean squared error):\", lasso_regressor.best_score_)\n",
        "\n",
        "\n",
        "# The negative sign is because of the known error in the Grid Search Cross Validation library, so ignore the negative sign.\n",
        "best_lasso_model = lasso_regressor.best_estimator_\n",
        "for idx, col_name in enumerate(col):\n",
        "    print(\"The coefficient for {} is {}\".format(col_name, best_lasso_model.coef_[idx]))\n"
      ]
    },
    {
      "cell_type": "code",
      "execution_count": 31,
      "metadata": {},
      "outputs": [
        {
          "name": "stdout",
          "output_type": "stream",
          "text": [
            "Residual sum of squares: 1.82\n",
            "Variance score: 0.86\n",
            "R2-score: 0.83\n"
          ]
        }
      ],
      "source": [
        "best_lasso_model = lasso_regressor.best_estimator_\n",
        "y_hat = best_lasso_model.predict(X_test)\n",
        "x = np.asanyarray(X_test)\n",
        "y = np.asanyarray(y_test)\n",
        "print(\"Residual sum of squares: %.2f\"\n",
        "      % np.mean((y_hat - y) ** 2))\n",
        "\n",
        "# Explained variance score: 1 is perfect prediction\n",
        "print('Variance score: %.2f' % best_lasso_model.score(x, y))\n",
        "print(\"R2-score: %.2f\" % r2_score(y_hat ,y) )"
      ]
    },
    {
      "cell_type": "code",
      "execution_count": 32,
      "metadata": {},
      "outputs": [
        {
          "data": {
            "image/png": "[encoded data removed]",
            "text/plain": [
              "<Figure size 1000x800 with 1 Axes>"
            ]
          },
          "metadata": {},
          "output_type": "display_data"
        }
      ],
      "source": [
        "predictors = col\n",
        " \n",
        "coef = Series(best_ridge_model.coef_.flatten(),predictors).sort_values()\n",
        "plt.figure(figsize=(10,8))\n",
        "coef.plot(kind='bar', title='Model Coefficients')\n",
        "plt.show()"
      ]
    },
    {
      "cell_type": "code",
      "execution_count": 39,
      "metadata": {},
      "outputs": [
        {
          "name": "stdout",
          "output_type": "stream",
          "text": [
            "Residual sum of squares: 1.84\n",
            "Variance score: 0.86\n",
            "R2-score: 0.84\n",
            "The coefficient for ENGINESIZE is 0.2520528228999903\n",
            "The coefficient for CYLINDERS is 0.1996787359964318\n",
            "The coefficient for FUELCONSUMPTION_CITY is 0.269826657180492\n",
            "The coefficient for FUELCONSUMPTION_HWY is 0.10760801395426381\n",
            "The coefficient for FUELCONSUMPTION_COMB is 0.14464349616872338\n"
          ]
        }
      ],
      "source": [
        "lasso = Lasso(alpha=0.01)\n",
        "# Entrenar el modelo\n",
        "lasso.fit(X_train, y_train)\n",
        "\n",
        "y_hat = lasso.predict(X_test)\n",
        "x = np.asanyarray(X_test)\n",
        "y = np.asanyarray(y_test)\n",
        "print(\"Residual sum of squares: %.2f\"\n",
        "      % np.mean((y_hat - y) ** 2))\n",
        "\n",
        "# Explained variance score: 1 is perfect prediction\n",
        "print('Variance score: %.2f' % best_lasso_model.score(x, y))\n",
        "print(\"R2-score: %.2f\" % r2_score(y_hat ,y) )\n",
        "\n",
        "for idx, col_name in enumerate(col):\n",
        "    print(\"The coefficient for {} is {}\".format(col_name, lasso.coef_[idx]))\n",
        "\n"
      ]
    },
    {
      "cell_type": "markdown",
      "metadata": {},
      "source": [
        "## **Elastic Net regression** "
      ]
    },
    {
      "cell_type": "markdown",
      "metadata": {},
      "source": [
        "The elastic net algorithm uses a weighted combination of L1 and L2 regularization. As you can probably see, the same function is used for LASSO and Ridge regression with only the L1_wt argument changing. This argument determines how much weight goes to the L1-norm of the partial slopes. If the regularization is pure L2 (Ridge) and if L1_wt = 1.0 the regularization is pure L1 (LASSO)."
      ]
    },
    {
      "cell_type": "code",
      "execution_count": 40,
      "metadata": {},
      "outputs": [
        {
          "name": "stdout",
          "output_type": "stream",
          "text": [
            "Best Params: {'alpha': 0.1, 'l1_ratio': 0.1}\n",
            "Best Score (negative mean squared error): -0.15240023404136246\n",
            "Residual sum of squares: 1.81\n",
            "Variance score: 0.86\n",
            "R2-score: 0.83\n"
          ]
        }
      ],
      "source": [
        "import numpy as np\n",
        "import pandas as pd\n",
        "from sklearn.linear_model import ElasticNet\n",
        "from sklearn.model_selection import GridSearchCV\n",
        "\n",
        "# Supongamos que tienes tus datos de entrenamiento X_train y y_train, y tus datos de prueba X_test y y_test.\n",
        "\n",
        "# Definir el modelo y los hiperparámetros a buscar\n",
        "elastic_net = ElasticNet()\n",
        "parameters = {\n",
        "    'alpha': [0.001, 0.01, 0.1, 1, 10, 100],\n",
        "    'l1_ratio': [0.1, 0.3, 0.5, 0.7, 0.9]\n",
        "}\n",
        "\n",
        "# Crear el objeto GridSearchCV\n",
        "elastic_net_regressor = GridSearchCV(elastic_net, parameters, scoring='neg_mean_squared_error', cv=5)\n",
        "\n",
        "# Entrenar el modelo\n",
        "elastic_net_regressor.fit(X_train, y_train)\n",
        "\n",
        "# Ver los resultados del mejor modelo\n",
        "print(\"Best Params:\", elastic_net_regressor.best_params_)\n",
        "print(\"Best Score (negative mean squared error):\", elastic_net_regressor.best_score_)\n",
        "\n",
        "# Hacer predicciones con el mejor modelo\n",
        "best_elastic_net_model = elastic_net_regressor.best_estimator_\n",
        "predictions = best_elastic_net_model.predict(X_test)\n",
        "\n",
        "y_hat = best_elastic_net_model.predict(X_test)\n",
        "x = np.asanyarray(X_test)\n",
        "y = np.asanyarray(y_test)\n",
        "print(\"Residual sum of squares: %.2f\"\n",
        "      % np.mean((y_hat - y) ** 2))\n",
        "\n",
        "# Explained variance score: 1 is perfect prediction\n",
        "print('Variance score: %.2f' % best_elastic_net_model.score(x, y))\n",
        "print(\"R2-score: %.2f\" % r2_score(y_hat ,y) )"
      ]
    }
  ],
  "metadata": {
    "kernelspec": {
      "display_name": "Python 3",
      "language": "python",
      "name": "python3"
    },
    "language_info": {
      "codemirror_mode": {
        "name": "ipython",
        "version": 3
      },
      "file_extension": ".py",
      "mimetype": "text/x-python",
      "name": "python",
      "nbconvert_exporter": "python",
      "pygments_lexer": "ipython3",
      "version": "3.11.3"
    }
  },
  "nbformat": 4,
  "nbformat_minor": 4
}
