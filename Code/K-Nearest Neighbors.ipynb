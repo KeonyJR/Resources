{
  "cells": [
    {
      "attachments": {},
      "cell_type": "markdown",
      "metadata": {},
      "source": [
        "\n",
        "\n",
        "# K-Nearest Neighbors\n",
        "\n",
        "\n",
        "Base on the notebook of https://www.coursera.org/learn/machine-learning-with-python/   \n",
        "    \n",
        "\n",
        "## Objectives\n",
        "\n",
        "* Use K Nearest neighbors to classify data\n"
      ]
    },
    {
      "attachments": {},
      "cell_type": "markdown",
      "metadata": {},
      "source": [
        "In this notebook you will load a customer dataset, fit the data, and use K-Nearest Neighbors to predict a data point. But what is **K-Nearest Neighbors**?\n"
      ]
    },
    {
      "attachments": {},
      "cell_type": "markdown",
      "metadata": {},
      "source": [
        "**K-Nearest Neighbors** is a supervised learning algorithm. Where the data is 'trained' with data points corresponding to their classification. To predict the class of a given data point, it takes into account the classes of the 'K' nearest data points and chooses the class in which the majority of the 'K' nearest data points belong to as the predicted class.\n"
      ]
    },
    {
      "attachments": {},
      "cell_type": "markdown",
      "metadata": {},
      "source": [
        "### Here's an visualization of the K-Nearest Neighbors algorithm.\n",
        "\n",
        "<img src=\"https://cf-courses-data.s3.us.cloud-object-storage.appdomain.cloud/IBMDeveloperSkillsNetwork-ML0101EN-SkillsNetwork/labs/Module%203/images/KNN_Diagram.png\">\n"
      ]
    },
    {
      "attachments": {},
      "cell_type": "markdown",
      "metadata": {},
      "source": [
        "In this case, we have data points of Class A and B. We want to predict what the star (test data point) is. If we consider a k value of 3 (3 nearest data points), we will obtain a prediction of Class B. Yet if we consider a k value of 6, we will obtain a prediction of Class A.\n"
      ]
    },
    {
      "attachments": {},
      "cell_type": "markdown",
      "metadata": {},
      "source": [
        "In this sense, it is important to consider the value of k. Hopefully from this diagram, you should get a sense of what the K-Nearest Neighbors algorithm is. It considers the 'K' Nearest Neighbors (data points) when it predicts the classification of the test point.\n"
      ]
    },
    {
      "attachments": {},
      "cell_type": "markdown",
      "metadata": {},
      "source": [
        "Let's load required libraries\n"
      ]
    },
    {
      "cell_type": "code",
      "execution_count": 3,
      "metadata": {},
      "outputs": [],
      "source": [
        "import numpy as np\n",
        "import matplotlib.pyplot as plt\n",
        "import pandas as pd\n",
        "import numpy as np\n",
        "from sklearn import preprocessing\n",
        "import os"
      ]
    },
    {
      "attachments": {},
      "cell_type": "markdown",
      "metadata": {},
      "source": [
        "<div id=\"about_dataset\">\n",
        "    <h2>About the dataset</h2>\n",
        "</div>\n",
        "\n",
        "Imagine a telecommunications provider has segmented its customer base by service usage patterns, categorizing the customers into four groups. If demographic data can be used to predict group membership, the company can customize offers for individual prospective customers. It is a classification problem. That is, given the dataset,  with predefined labels, we need to build a model to be used to predict class of a new or unknown case. \n",
        "\n",
        "The example focuses on using demographic data, such as region, age, and marital, to predict usage patterns. \n",
        "\n",
        "The target field, called __custcat__, has four possible values that correspond to the four customer groups, as follows:\n",
        "  1- Basic Service\n",
        "  2- E-Service\n",
        "  3- Plus Service\n",
        "  4- Total Service\n",
        "\n",
        "Our objective is to build a classifier, to predict the class of unknown cases. We will use a specific type of classification called K nearest neighbour."
      ]
    },
    {
      "cell_type": "code",
      "execution_count": 4,
      "metadata": {},
      "outputs": [
        {
          "name": "stdout",
          "output_type": "stream",
          "text": [
            "Parent directory: d:\\Github\\Resources\n",
            "d:\\Github\\Resources/Data/teleCust1000t.csv\n"
          ]
        }
      ],
      "source": [
        "current_directory = os.getcwd() \n",
        "parent_directory = os.path.abspath(os.path.join(current_directory, os.pardir))\n",
        "print(\"Parent directory:\", parent_directory)\n",
        "Data_directory = parent_directory + \"/Data\" + \"/teleCust1000t.csv\"\n",
        "print(Data_directory)"
      ]
    },
    {
      "attachments": {},
      "cell_type": "markdown",
      "metadata": {},
      "source": [
        "### Load Data From CSV File  \n"
      ]
    },
    {
      "cell_type": "code",
      "execution_count": 5,
      "metadata": {},
      "outputs": [
        {
          "data": {
            "text/html": [
              "<div>\n",
              "<style scoped>\n",
              "    .dataframe tbody tr th:only-of-type {\n",
              "        vertical-align: middle;\n",
              "    }\n",
              "\n",
              "    .dataframe tbody tr th {\n",
              "        vertical-align: top;\n",
              "    }\n",
              "\n",
              "    .dataframe thead th {\n",
              "        text-align: right;\n",
              "    }\n",
              "</style>\n",
              "<table border=\"1\" class=\"dataframe\">\n",
              "  <thead>\n",
              "    <tr style=\"text-align: right;\">\n",
              "      <th></th>\n",
              "      <th>region</th>\n",
              "      <th>tenure</th>\n",
              "      <th>age</th>\n",
              "      <th>marital</th>\n",
              "      <th>address</th>\n",
              "      <th>income</th>\n",
              "      <th>ed</th>\n",
              "      <th>employ</th>\n",
              "      <th>retire</th>\n",
              "      <th>gender</th>\n",
              "      <th>reside</th>\n",
              "      <th>custcat</th>\n",
              "    </tr>\n",
              "  </thead>\n",
              "  <tbody>\n",
              "    <tr>\n",
              "      <th>0</th>\n",
              "      <td>2</td>\n",
              "      <td>13</td>\n",
              "      <td>44</td>\n",
              "      <td>1</td>\n",
              "      <td>9</td>\n",
              "      <td>64.0</td>\n",
              "      <td>4</td>\n",
              "      <td>5</td>\n",
              "      <td>0.0</td>\n",
              "      <td>0</td>\n",
              "      <td>2</td>\n",
              "      <td>1</td>\n",
              "    </tr>\n",
              "    <tr>\n",
              "      <th>1</th>\n",
              "      <td>3</td>\n",
              "      <td>11</td>\n",
              "      <td>33</td>\n",
              "      <td>1</td>\n",
              "      <td>7</td>\n",
              "      <td>136.0</td>\n",
              "      <td>5</td>\n",
              "      <td>5</td>\n",
              "      <td>0.0</td>\n",
              "      <td>0</td>\n",
              "      <td>6</td>\n",
              "      <td>4</td>\n",
              "    </tr>\n",
              "    <tr>\n",
              "      <th>2</th>\n",
              "      <td>3</td>\n",
              "      <td>68</td>\n",
              "      <td>52</td>\n",
              "      <td>1</td>\n",
              "      <td>24</td>\n",
              "      <td>116.0</td>\n",
              "      <td>1</td>\n",
              "      <td>29</td>\n",
              "      <td>0.0</td>\n",
              "      <td>1</td>\n",
              "      <td>2</td>\n",
              "      <td>3</td>\n",
              "    </tr>\n",
              "    <tr>\n",
              "      <th>3</th>\n",
              "      <td>2</td>\n",
              "      <td>33</td>\n",
              "      <td>33</td>\n",
              "      <td>0</td>\n",
              "      <td>12</td>\n",
              "      <td>33.0</td>\n",
              "      <td>2</td>\n",
              "      <td>0</td>\n",
              "      <td>0.0</td>\n",
              "      <td>1</td>\n",
              "      <td>1</td>\n",
              "      <td>1</td>\n",
              "    </tr>\n",
              "    <tr>\n",
              "      <th>4</th>\n",
              "      <td>2</td>\n",
              "      <td>23</td>\n",
              "      <td>30</td>\n",
              "      <td>1</td>\n",
              "      <td>9</td>\n",
              "      <td>30.0</td>\n",
              "      <td>1</td>\n",
              "      <td>2</td>\n",
              "      <td>0.0</td>\n",
              "      <td>0</td>\n",
              "      <td>4</td>\n",
              "      <td>3</td>\n",
              "    </tr>\n",
              "  </tbody>\n",
              "</table>\n",
              "</div>"
            ],
            "text/plain": [
              "   region  tenure  age  marital  address  income  ed  employ  retire  gender  \\\n",
              "0       2      13   44        1        9    64.0   4       5     0.0       0   \n",
              "1       3      11   33        1        7   136.0   5       5     0.0       0   \n",
              "2       3      68   52        1       24   116.0   1      29     0.0       1   \n",
              "3       2      33   33        0       12    33.0   2       0     0.0       1   \n",
              "4       2      23   30        1        9    30.0   1       2     0.0       0   \n",
              "\n",
              "   reside  custcat  \n",
              "0       2        1  \n",
              "1       6        4  \n",
              "2       2        3  \n",
              "3       1        1  \n",
              "4       4        3  "
            ]
          },
          "execution_count": 5,
          "metadata": {},
          "output_type": "execute_result"
        }
      ],
      "source": [
        "df = pd.read_csv(Data_directory)\n",
        "df.head()"
      ]
    },
    {
      "attachments": {},
      "cell_type": "markdown",
      "metadata": {},
      "source": [
        "<div id=\"visualization_analysis\">\n",
        "    <h2>Data Visualization and Analysis</h2> \n",
        "</div>\n"
      ]
    },
    {
      "attachments": {},
      "cell_type": "markdown",
      "metadata": {},
      "source": [
        "#### Let’s see how many of each class is in our data set \n"
      ]
    },
    {
      "cell_type": "code",
      "execution_count": 6,
      "metadata": {},
      "outputs": [
        {
          "data": {
            "text/plain": [
              "custcat\n",
              "3    281\n",
              "1    266\n",
              "4    236\n",
              "2    217\n",
              "Name: count, dtype: int64"
            ]
          },
          "execution_count": 6,
          "metadata": {},
          "output_type": "execute_result"
        }
      ],
      "source": [
        "df['custcat'].value_counts()"
      ]
    },
    {
      "attachments": {},
      "cell_type": "markdown",
      "metadata": {},
      "source": [
        "#### 281 Plus Service, 266 Basic-service, 236 Total Service, and 217 E-Service customers\n"
      ]
    },
    {
      "attachments": {},
      "cell_type": "markdown",
      "metadata": {},
      "source": [
        "You can easily explore your data using visualization techniques:\n"
      ]
    },
    {
      "cell_type": "code",
      "execution_count": 7,
      "metadata": {},
      "outputs": [
        {
          "data": {
            "text/plain": [
              "array([[<Axes: title={'center': 'income'}>]], dtype=object)"
            ]
          },
          "execution_count": 7,
          "metadata": {},
          "output_type": "execute_result"
        },
        {
          "data": {
            "image/png": "[encoded data removed]",
            "text/plain": [
              "<Figure size 640x480 with 1 Axes>"
            ]
          },
          "metadata": {},
          "output_type": "display_data"
        }
      ],
      "source": [
        "df.hist(column='income', bins=50)"
      ]
    },
    {
      "attachments": {},
      "cell_type": "markdown",
      "metadata": {},
      "source": [
        "### Feature set\n"
      ]
    },
    {
      "attachments": {},
      "cell_type": "markdown",
      "metadata": {},
      "source": [
        "Let's define feature sets, X:\n"
      ]
    },
    {
      "cell_type": "code",
      "execution_count": 8,
      "metadata": {},
      "outputs": [
        {
          "data": {
            "text/plain": [
              "Index(['region', 'tenure', 'age', 'marital', 'address', 'income', 'ed',\n",
              "       'employ', 'retire', 'gender', 'reside', 'custcat'],\n",
              "      dtype='object')"
            ]
          },
          "execution_count": 8,
          "metadata": {},
          "output_type": "execute_result"
        }
      ],
      "source": [
        "df.columns"
      ]
    },
    {
      "attachments": {},
      "cell_type": "markdown",
      "metadata": {},
      "source": [
        "To use scikit-learn library, we have to convert the Pandas data frame to a Numpy array:\n"
      ]
    },
    {
      "cell_type": "code",
      "execution_count": 9,
      "metadata": {},
      "outputs": [
        {
          "data": {
            "text/plain": [
              "array([[  2.,  13.,  44.,   1.,   9.,  64.,   4.,   5.,   0.,   0.,   2.],\n",
              "       [  3.,  11.,  33.,   1.,   7., 136.,   5.,   5.,   0.,   0.,   6.],\n",
              "       [  3.,  68.,  52.,   1.,  24., 116.,   1.,  29.,   0.,   1.,   2.],\n",
              "       [  2.,  33.,  33.,   0.,  12.,  33.,   2.,   0.,   0.,   1.,   1.],\n",
              "       [  2.,  23.,  30.,   1.,   9.,  30.,   1.,   2.,   0.,   0.,   4.]])"
            ]
          },
          "execution_count": 9,
          "metadata": {},
          "output_type": "execute_result"
        }
      ],
      "source": [
        "X = df[['region', 'tenure','age', 'marital', 'address', 'income', 'ed', 'employ','retire', 'gender', 'reside']] .values  #.astype(float)\n",
        "X[0:5]\n"
      ]
    },
    {
      "attachments": {},
      "cell_type": "markdown",
      "metadata": {},
      "source": [
        "What are our labels?\n"
      ]
    },
    {
      "cell_type": "code",
      "execution_count": 10,
      "metadata": {},
      "outputs": [
        {
          "data": {
            "text/plain": [
              "array([1, 4, 3, 1, 3], dtype=int64)"
            ]
          },
          "execution_count": 10,
          "metadata": {},
          "output_type": "execute_result"
        }
      ],
      "source": [
        "y = df['custcat'].values\n",
        "y[0:5]"
      ]
    },
    {
      "attachments": {},
      "cell_type": "markdown",
      "metadata": {},
      "source": [
        "### Train Test Split  \n",
        "Out of Sample Accuracy is the percentage of correct predictions that the model makes on data that the model has NOT been trained on. Doing a train and test on the same dataset will most likely have low out-of-sample accuracy, due to the likelihood of our model overfitting.\n",
        "\n",
        "It is important that our models have a high, out-of-sample accuracy, because the purpose of any model, of course, is to make correct predictions on unknown data. So how can we improve out-of-sample accuracy? One way is to use an evaluation approach called Train/Test Split.\n",
        "Train/Test Split involves splitting the dataset into training and testing sets respectively, which are mutually exclusive. After which, you train with the training set and test with the testing set. \n",
        "\n",
        "This will provide a more accurate evaluation on out-of-sample accuracy because the testing dataset is not part of the dataset that has been used to train the model. It is more realistic for the real world problems.\n"
      ]
    },
    {
      "cell_type": "code",
      "execution_count": 11,
      "metadata": {},
      "outputs": [
        {
          "name": "stdout",
          "output_type": "stream",
          "text": [
            "Train set: (800, 11) (800,)\n",
            "Test set: (200, 11) (200,)\n"
          ]
        }
      ],
      "source": [
        "from sklearn.model_selection import train_test_split\n",
        "X_train, X_test, y_train, y_test = train_test_split( X, y, test_size=0.2, random_state=4)\n",
        "print ('Train set:', X_train.shape,  y_train.shape)\n",
        "print ('Test set:', X_test.shape,  y_test.shape)"
      ]
    },
    {
      "attachments": {},
      "cell_type": "markdown",
      "metadata": {},
      "source": [
        "## Normalize Data \n"
      ]
    },
    {
      "attachments": {},
      "cell_type": "markdown",
      "metadata": {},
      "source": [
        "Data Standardization gives the data zero mean and unit variance, it is good practice, especially for algorithms such as KNN which is based on the distance of data points:\n"
      ]
    },
    {
      "cell_type": "code",
      "execution_count": 12,
      "metadata": {},
      "outputs": [],
      "source": [
        "scaler = preprocessing.StandardScaler().fit(X_train)"
      ]
    },
    {
      "cell_type": "code",
      "execution_count": 13,
      "metadata": {},
      "outputs": [
        {
          "data": {
            "text/plain": [
              "array([[-1.28618818e+00, -1.53085556e+00, -8.49354628e-01,\n",
              "         1.00752834e+00, -7.46393214e-01, -4.83608776e-01,\n",
              "         1.12305195e+00, -7.02283455e-01, -2.23313158e-01,\n",
              "        -1.01005050e+00,  1.83304333e+00],\n",
              "       [-4.79805457e-02,  2.51253999e-01,  3.44957012e-01,\n",
              "         1.00752834e+00,  2.45326718e-01, -2.71543263e-01,\n",
              "        -5.40728715e-01, -1.25385370e-04, -2.23313158e-01,\n",
              "        -1.01005050e+00,  1.83304333e+00],\n",
              "       [-1.28618818e+00, -7.80493639e-01, -6.90113076e-01,\n",
              "         1.00752834e+00, -5.21892614e-02, -4.92444839e-01,\n",
              "        -1.37261905e+00, -8.02591750e-01, -2.23313158e-01,\n",
              "        -1.01005050e+00,  1.83304333e+00],\n",
              "       [-4.79805457e-02, -1.53085556e+00, -3.71629972e-01,\n",
              "        -9.92527915e-01,  1.46154725e-01, -4.74772713e-01,\n",
              "        -1.37261905e+00, -8.02591750e-01, -2.23313158e-01,\n",
              "         9.90049504e-01, -9.33814526e-01],\n",
              "       [ 1.19022709e+00, -2.17722200e-01, -6.10492300e-01,\n",
              "        -9.92527915e-01, -2.50533248e-01,  2.40948394e-01,\n",
              "         1.12305195e+00, -4.01358568e-01, -2.23313158e-01,\n",
              "         9.90049504e-01,  1.14132887e+00]])"
            ]
          },
          "execution_count": 13,
          "metadata": {},
          "output_type": "execute_result"
        }
      ],
      "source": [
        "X_train_norm = scaler.transform(X_train.astype(float))\n",
        "X_train_norm[0:5]"
      ]
    },
    {
      "attachments": {},
      "cell_type": "markdown",
      "metadata": {},
      "source": [
        "<div id=\"classification\">\n",
        "    <h2>Classification</h2>\n",
        "</div>\n"
      ]
    },
    {
      "attachments": {},
      "cell_type": "markdown",
      "metadata": {},
      "source": [
        "<h3>K nearest neighbor (KNN)</h3>\n"
      ]
    },
    {
      "attachments": {},
      "cell_type": "markdown",
      "metadata": {},
      "source": [
        "#### Import library \n"
      ]
    },
    {
      "attachments": {},
      "cell_type": "markdown",
      "metadata": {},
      "source": [
        "Classifier implementing the k-nearest neighbors vote.\n"
      ]
    },
    {
      "cell_type": "code",
      "execution_count": 14,
      "metadata": {},
      "outputs": [],
      "source": [
        "from sklearn.neighbors import KNeighborsClassifier"
      ]
    },
    {
      "attachments": {},
      "cell_type": "markdown",
      "metadata": {},
      "source": [
        "### Training\n",
        "\n",
        "Let's start the algorithm with k=4 for now:\n"
      ]
    },
    {
      "cell_type": "code",
      "execution_count": 15,
      "metadata": {},
      "outputs": [
        {
          "data": {
            "text/html": [
              "<style>#sk-container-id-1 {color: black;background-color: white;}#sk-container-id-1 pre{padding: 0;}#sk-container-id-1 div.sk-toggleable {background-color: white;}#sk-container-id-1 label.sk-toggleable__label {cursor: pointer;display: block;width: 100%;margin-bottom: 0;padding: 0.3em;box-sizing: border-box;text-align: center;}#sk-container-id-1 label.sk-toggleable__label-arrow:before {content: \"▸\";float: left;margin-right: 0.25em;color: #696969;}#sk-container-id-1 label.sk-toggleable__label-arrow:hover:before {color: black;}#sk-container-id-1 div.sk-estimator:hover label.sk-toggleable__label-arrow:before {color: black;}#sk-container-id-1 div.sk-toggleable__content {max-height: 0;max-width: 0;overflow: hidden;text-align: left;background-color: #f0f8ff;}#sk-container-id-1 div.sk-toggleable__content pre {margin: 0.2em;color: black;border-radius: 0.25em;background-color: #f0f8ff;}#sk-container-id-1 input.sk-toggleable__control:checked~div.sk-toggleable__content {max-height: 200px;max-width: 100%;overflow: auto;}#sk-container-id-1 input.sk-toggleable__control:checked~label.sk-toggleable__label-arrow:before {content: \"▾\";}#sk-container-id-1 div.sk-estimator input.sk-toggleable__control:checked~label.sk-toggleable__label {background-color: #d4ebff;}#sk-container-id-1 div.sk-label input.sk-toggleable__control:checked~label.sk-toggleable__label {background-color: #d4ebff;}#sk-container-id-1 input.sk-hidden--visually {border: 0;clip: rect(1px 1px 1px 1px);clip: rect(1px, 1px, 1px, 1px);height: 1px;margin: -1px;overflow: hidden;padding: 0;position: absolute;width: 1px;}#sk-container-id-1 div.sk-estimator {font-family: monospace;background-color: #f0f8ff;border: 1px dotted black;border-radius: 0.25em;box-sizing: border-box;margin-bottom: 0.5em;}#sk-container-id-1 div.sk-estimator:hover {background-color: #d4ebff;}#sk-container-id-1 div.sk-parallel-item::after {content: \"\";width: 100%;border-bottom: 1px solid gray;flex-grow: 1;}#sk-container-id-1 div.sk-label:hover label.sk-toggleable__label {background-color: #d4ebff;}#sk-container-id-1 div.sk-serial::before {content: \"\";position: absolute;border-left: 1px solid gray;box-sizing: border-box;top: 0;bottom: 0;left: 50%;z-index: 0;}#sk-container-id-1 div.sk-serial {display: flex;flex-direction: column;align-items: center;background-color: white;padding-right: 0.2em;padding-left: 0.2em;position: relative;}#sk-container-id-1 div.sk-item {position: relative;z-index: 1;}#sk-container-id-1 div.sk-parallel {display: flex;align-items: stretch;justify-content: center;background-color: white;position: relative;}#sk-container-id-1 div.sk-item::before, #sk-container-id-1 div.sk-parallel-item::before {content: \"\";position: absolute;border-left: 1px solid gray;box-sizing: border-box;top: 0;bottom: 0;left: 50%;z-index: -1;}#sk-container-id-1 div.sk-parallel-item {display: flex;flex-direction: column;z-index: 1;position: relative;background-color: white;}#sk-container-id-1 div.sk-parallel-item:first-child::after {align-self: flex-end;width: 50%;}#sk-container-id-1 div.sk-parallel-item:last-child::after {align-self: flex-start;width: 50%;}#sk-container-id-1 div.sk-parallel-item:only-child::after {width: 0;}#sk-container-id-1 div.sk-dashed-wrapped {border: 1px dashed gray;margin: 0 0.4em 0.5em 0.4em;box-sizing: border-box;padding-bottom: 0.4em;background-color: white;}#sk-container-id-1 div.sk-label label {font-family: monospace;font-weight: bold;display: inline-block;line-height: 1.2em;}#sk-container-id-1 div.sk-label-container {text-align: center;}#sk-container-id-1 div.sk-container {/* jupyter's `normalize.less` sets `[hidden] { display: none; }` but bootstrap.min.css set `[hidden] { display: none !important; }` so we also need the `!important` here to be able to override the default hidden behavior on the sphinx rendered scikit-learn.org. See: https://github.com/scikit-learn/scikit-learn/issues/21755 */display: inline-block !important;position: relative;}#sk-container-id-1 div.sk-text-repr-fallback {display: none;}</style><div id=\"sk-container-id-1\" class=\"sk-top-container\"><div class=\"sk-text-repr-fallback\"><pre>KNeighborsClassifier(n_neighbors=4)</pre><b>In a Jupyter environment, please rerun this cell to show the HTML representation or trust the notebook. <br />On GitHub, the HTML representation is unable to render, please try loading this page with nbviewer.org.</b></div><div class=\"sk-container\" hidden><div class=\"sk-item\"><div class=\"sk-estimator sk-toggleable\"><input class=\"sk-toggleable__control sk-hidden--visually\" id=\"sk-estimator-id-1\" type=\"checkbox\" checked><label for=\"sk-estimator-id-1\" class=\"sk-toggleable__label sk-toggleable__label-arrow\">KNeighborsClassifier</label><div class=\"sk-toggleable__content\"><pre>KNeighborsClassifier(n_neighbors=4)</pre></div></div></div></div></div>"
            ],
            "text/plain": [
              "KNeighborsClassifier(n_neighbors=4)"
            ]
          },
          "execution_count": 15,
          "metadata": {},
          "output_type": "execute_result"
        }
      ],
      "source": [
        "k = 4\n",
        "#Train Model and Predict  \n",
        "neigh = KNeighborsClassifier(n_neighbors = k).fit(X_train_norm,y_train)\n",
        "neigh"
      ]
    },
    {
      "cell_type": "code",
      "execution_count": 16,
      "metadata": {},
      "outputs": [
        {
          "data": {
            "text/plain": [
              "array([[-1.28618818e+00, -9.68084119e-01, -9.28975404e-01,\n",
              "         1.00752834e+00, -3.49705241e-01,  1.08407449e-01,\n",
              "        -5.40728715e-01, -1.25385370e-04, -2.23313158e-01,\n",
              "        -1.01005050e+00,  1.83304333e+00],\n",
              "       [-1.28618818e+00, -1.48395794e+00, -1.32767644e-01,\n",
              "        -9.92527915e-01,  4.69827318e-02, -3.51067830e-01,\n",
              "        -5.40728715e-01, -6.01975159e-01, -2.23313158e-01,\n",
              "        -1.01005050e+00, -9.33814526e-01],\n",
              "       [-1.28618818e+00, -5.46005540e-01,  1.53926865e+00,\n",
              "         1.00752834e+00, -5.48049227e-01,  3.02800836e-01,\n",
              "         1.12305195e+00, -8.02591750e-01, -2.23313158e-01,\n",
              "         9.90049504e-01,  1.14132887e+00],\n",
              "       [-1.28618818e+00, -7.80493639e-01, -8.49354628e-01,\n",
              "         1.00752834e+00, -1.14308119e+00, -4.92444839e-01,\n",
              "         1.12305195e+00, -9.02900046e-01, -2.23313158e-01,\n",
              "        -1.01005050e+00,  4.49614402e-01],\n",
              "       [-1.28618818e+00,  4.85742098e-01, -1.00859618e+00,\n",
              "         1.00752834e+00, -7.46393214e-01,  1.08407449e-01,\n",
              "         1.95494228e+00, -8.02591750e-01, -2.23313158e-01,\n",
              "        -1.01005050e+00,  1.14132887e+00]])"
            ]
          },
          "execution_count": 16,
          "metadata": {},
          "output_type": "execute_result"
        }
      ],
      "source": [
        "X_test_norm = scaler.transform(X_test.astype(float))\n",
        "X_test_norm[0:5]"
      ]
    },
    {
      "attachments": {},
      "cell_type": "markdown",
      "metadata": {},
      "source": [
        "### Predicting\n",
        "We can use the model to make predictions on the test set:\n"
      ]
    },
    {
      "cell_type": "code",
      "execution_count": 17,
      "metadata": {},
      "outputs": [
        {
          "data": {
            "text/plain": [
              "array([1, 1, 3, 2, 4], dtype=int64)"
            ]
          },
          "execution_count": 17,
          "metadata": {},
          "output_type": "execute_result"
        }
      ],
      "source": [
        "yhat = neigh.predict(X_test_norm)\n",
        "yhat[0:5]"
      ]
    },
    {
      "attachments": {},
      "cell_type": "markdown",
      "metadata": {},
      "source": [
        "### Accuracy evaluation\n",
        "In multilabel classification, __accuracy classification score__ is a function that computes subset accuracy. This function is equal to the jaccard_score function. Essentially, it calculates how closely the actual labels and predicted labels are matched in the test set.\n"
      ]
    },
    {
      "cell_type": "code",
      "execution_count": 18,
      "metadata": {},
      "outputs": [
        {
          "name": "stdout",
          "output_type": "stream",
          "text": [
            "Train set Accuracy:  0.5475\n",
            "Test set Accuracy:  0.32\n"
          ]
        }
      ],
      "source": [
        "from sklearn import metrics\n",
        "print(\"Train set Accuracy: \", metrics.accuracy_score(y_train, neigh.predict(X_train_norm)))\n",
        "print(\"Test set Accuracy: \", metrics.accuracy_score(y_test, yhat))"
      ]
    },
    {
      "attachments": {},
      "cell_type": "markdown",
      "metadata": {},
      "source": [
        "## Practice\n",
        "Can you build the model again, but this time with k=6?\n"
      ]
    },
    {
      "cell_type": "code",
      "execution_count": 25,
      "metadata": {},
      "outputs": [
        {
          "name": "stdout",
          "output_type": "stream",
          "text": [
            "Train set Accuracy:  0.5125\n",
            "Test set Accuracy:  0.31\n"
          ]
        }
      ],
      "source": [
        "k = 6\n",
        "neigh6 = KNeighborsClassifier(n_neighbors = k).fit(X_train_norm,y_train)\n",
        "yhat6 = neigh6.predict(X_test_norm)\n",
        "print(\"Train set Accuracy: \", metrics.accuracy_score(y_train, neigh6.predict(X_train_norm)))\n",
        "print(\"Test set Accuracy: \", metrics.accuracy_score(y_test, yhat6))\n"
      ]
    },
    {
      "attachments": {},
      "cell_type": "markdown",
      "metadata": {},
      "source": [
        "#### What about other K?\n",
        "K in KNN, is the number of nearest neighbors to examine. It is supposed to be specified by the user. So, how can we choose right value for K?\n",
        "The general solution is to reserve a part of your data for testing the accuracy of the model. Then choose k =1, use the training part for modeling, and calculate the accuracy of prediction using all samples in your test set. Repeat this process, increasing the k, and see which k is the best for your model.\n",
        "\n",
        "We can calculate the accuracy of KNN for different values of k.\n"
      ]
    },
    {
      "cell_type": "code",
      "execution_count": 30,
      "metadata": {},
      "outputs": [
        {
          "data": {
            "text/plain": [
              "array([0.3  , 0.305, 0.315, 0.32 , 0.315, 0.31 , 0.33 , 0.325, 0.335,\n",
              "       0.355, 0.335, 0.35 , 0.335, 0.315, 0.325, 0.355, 0.355, 0.35 ,\n",
              "       0.35 , 0.33 , 0.36 , 0.365, 0.375, 0.37 , 0.375, 0.365, 0.36 ,\n",
              "       0.38 , 0.39 , 0.385, 0.395, 0.38 , 0.375, 0.375, 0.39 , 0.38 ,\n",
              "       0.39 , 0.41 , 0.41 , 0.38 , 0.375, 0.375, 0.385, 0.375, 0.375,\n",
              "       0.37 , 0.38 , 0.36 , 0.355, 0.37 , 0.355, 0.365, 0.375, 0.365,\n",
              "       0.36 , 0.365, 0.375, 0.375, 0.36 , 0.345, 0.36 , 0.37 , 0.36 ,\n",
              "       0.36 , 0.35 , 0.34 , 0.35 , 0.345, 0.345, 0.36 , 0.37 , 0.36 ,\n",
              "       0.355, 0.355, 0.345, 0.355, 0.375, 0.35 , 0.355, 0.37 , 0.35 ,\n",
              "       0.355, 0.355, 0.34 , 0.335, 0.345, 0.34 , 0.33 , 0.335, 0.335,\n",
              "       0.34 , 0.335, 0.35 , 0.355, 0.33 , 0.33 , 0.33 , 0.32 , 0.335,\n",
              "       0.33 , 0.33 , 0.33 , 0.325, 0.325, 0.33 , 0.335, 0.34 , 0.345,\n",
              "       0.345, 0.35 , 0.33 , 0.33 , 0.33 , 0.33 , 0.345, 0.34 , 0.33 ,\n",
              "       0.34 , 0.335, 0.345, 0.35 , 0.355, 0.35 , 0.35 , 0.345, 0.35 ,\n",
              "       0.355, 0.35 , 0.355, 0.35 , 0.345, 0.35 , 0.355, 0.35 , 0.355,\n",
              "       0.36 , 0.345, 0.34 , 0.335, 0.335, 0.34 , 0.335, 0.355, 0.34 ,\n",
              "       0.335, 0.345, 0.35 , 0.36 , 0.355, 0.355, 0.355, 0.355, 0.35 ,\n",
              "       0.355, 0.355, 0.36 , 0.35 , 0.35 , 0.355, 0.355, 0.36 , 0.365,\n",
              "       0.36 , 0.375, 0.365, 0.37 , 0.365, 0.36 , 0.36 , 0.355, 0.345,\n",
              "       0.355, 0.36 , 0.355, 0.365, 0.35 , 0.365, 0.355, 0.355, 0.35 ,\n",
              "       0.35 , 0.355, 0.35 , 0.35 , 0.35 , 0.355, 0.35 , 0.35 , 0.355,\n",
              "       0.35 , 0.36 , 0.35 , 0.35 , 0.35 , 0.36 , 0.36 , 0.36 , 0.36 ,\n",
              "       0.365])"
            ]
          },
          "execution_count": 30,
          "metadata": {},
          "output_type": "execute_result"
        }
      ],
      "source": [
        "Ks = 200\n",
        "mean_acc = np.zeros((Ks-1))\n",
        "std_acc = np.zeros((Ks-1))\n",
        "\n",
        "for n in range(1,Ks):\n",
        "    \n",
        "    #Train Model and Predict  \n",
        "    neigh = KNeighborsClassifier(n_neighbors = n).fit(X_train_norm,y_train)\n",
        "    yhat=neigh.predict(X_test_norm)\n",
        "    mean_acc[n-1] = metrics.accuracy_score(y_test, yhat)\n",
        "\n",
        "    \n",
        "    std_acc[n-1]=np.std(yhat==y_test)/np.sqrt(yhat.shape[0])\n",
        "\n",
        "mean_acc"
      ]
    },
    {
      "attachments": {},
      "cell_type": "markdown",
      "metadata": {},
      "source": [
        "#### Plot the model accuracy for a different number of neighbors.\n"
      ]
    },
    {
      "cell_type": "code",
      "execution_count": 31,
      "metadata": {},
      "outputs": [
        {
          "data": {
            "image/png": "[encoded data removed]",
            "text/plain": [
              "<Figure size 640x480 with 1 Axes>"
            ]
          },
          "metadata": {},
          "output_type": "display_data"
        }
      ],
      "source": [
        "plt.plot(range(1,Ks),mean_acc,'g')\n",
        "plt.fill_between(range(1,Ks),mean_acc - 1 * std_acc,mean_acc + 1 * std_acc, alpha=0.10)\n",
        "plt.fill_between(range(1,Ks),mean_acc - 3 * std_acc,mean_acc + 3 * std_acc, alpha=0.10,color=\"green\")\n",
        "plt.legend(('Accuracy ', '+/- 1xstd','+/- 3xstd'))\n",
        "plt.ylabel('Accuracy ')\n",
        "plt.xlabel('Number of Neighbors (K)')\n",
        "plt.tight_layout()\n",
        "plt.show()"
      ]
    },
    {
      "cell_type": "code",
      "execution_count": 32,
      "metadata": {},
      "outputs": [
        {
          "name": "stdout",
          "output_type": "stream",
          "text": [
            "The best accuracy was with 0.41 with k= 38\n"
          ]
        }
      ],
      "source": [
        "print( \"The best accuracy was with\", mean_acc.max(), \"with k=\", mean_acc.argmax()+1) "
      ]
    }
  ],
  "metadata": {
    "kernelspec": {
      "display_name": "Python 3",
      "language": "python",
      "name": "python3"
    },
    "language_info": {
      "codemirror_mode": {
        "name": "ipython",
        "version": 3
      },
      "file_extension": ".py",
      "mimetype": "text/x-python",
      "name": "python",
      "nbconvert_exporter": "python",
      "pygments_lexer": "ipython3",
      "version": "3.11.3"
    }
  },
  "nbformat": 4,
  "nbformat_minor": 4
}
