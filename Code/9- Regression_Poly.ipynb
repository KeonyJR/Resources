{
  "cells": [
    {
      "attachments": {},
      "cell_type": "markdown",
      "metadata": {
        "button": false,
        "new_sheet": false,
        "run_control": {
          "read_only": false
        }
      },
      "source": [
        "\n",
        "\n",
        "# **Modeling non-linear relationship using Polynomial Regression Model**\n",
        "\n",
        "\n",
        "\n",
        "\n",
        "\n",
        "\n"
      ]
    },
    {
      "cell_type": "markdown",
      "metadata": {},
      "source": [
        "## **Resources**\n",
        "\n",
        "- Polynomial regression \n",
        "https://en.wikipedia.org/wiki/Polynomial_regression\n",
        "- Polynomial Regression with Scikit learn: What You Should Know\n",
        "https://towardsdatascience.com/polynomial-regression-with-scikit-learn-what-you-should-know-bed9d3296f2\n",
        "- Master Polynomial Regression With Easy-to-Follow Tutorials\n",
        "https://www.analyticsvidhya.com/blog/2021/07/all-you-need-to-know-about-polynomial-regression/#:~:text=Polynomial%20regression%20is%20a%20form,convert%20it%20into%20Polynomial%20regression.\n",
        "- Polynomial Regression\n",
        "https://towardsdatascience.com/polynomial-regression-bbe8b9d97491\n",
        "- ML Polynomial Regression\n",
        "https://www.javatpoint.com/machine-learning-polynomial-regression\n",
        "- 3 Techniques for Building a Machine Learning Regression Model from a Multivariate Nonlinear Dataset\n",
        "https://towardsdatascience.com/3-techniques-for-building-a-machine-learning-regression-model-from-a-multivariate-nonlinear-dataset-88b25fc24ad5"
      ]
    },
    {
      "cell_type": "markdown",
      "metadata": {},
      "source": [
        "## **Reading the Data**"
      ]
    },
    {
      "attachments": {},
      "cell_type": "markdown",
      "metadata": {
        "button": false,
        "new_sheet": false,
        "run_control": {
          "read_only": false
        }
      },
      "source": [
        "### Importing Needed packages\n"
      ]
    },
    {
      "cell_type": "code",
      "execution_count": 28,
      "metadata": {
        "button": false,
        "new_sheet": false,
        "run_control": {
          "read_only": false
        },
        "trusted": true
      },
      "outputs": [],
      "source": [
        "import matplotlib.pyplot as plt\n",
        "import pandas as pd\n",
        "import pylab as pl\n",
        "import numpy as np\n",
        "import os\n",
        "import math\n",
        "import pandas as pd\n",
        "import matplotlib.pyplot as plt\n",
        "import numpy as np\n",
        "from sklearn.preprocessing import MinMaxScaler\n",
        "from sklearn.svm import SVR\n",
        "from sklearn.svm import SVR \n",
        "from sklearn.model_selection import cross_validate, GridSearchCV\n",
        "from sklearn.utils import shuffle\n",
        "from sklearn.ensemble import RandomForestRegressor\n",
        "import numpy as np\n",
        "import matplotlib.pyplot as plt\n",
        "from sklearn.linear_model import LinearRegression\n",
        "from sklearn.preprocessing import PolynomialFeatures\n",
        "from sklearn.metrics import r2_score"
      ]
    },
    {
      "attachments": {},
      "cell_type": "markdown",
      "metadata": {
        "button": false,
        "new_sheet": false,
        "run_control": {
          "read_only": false
        }
      },
      "source": [
        "### Reading the Data\n"
      ]
    },
    {
      "cell_type": "code",
      "execution_count": 2,
      "metadata": {
        "button": false,
        "new_sheet": false,
        "run_control": {
          "read_only": false
        },
        "trusted": true
      },
      "outputs": [
        {
          "name": "stdout",
          "output_type": "stream",
          "text": [
            "Parent directory: d:\\Github\\Resources\n",
            "d:\\Github\\Resources/Data/dataset_reduce_PI_MG.csv\n"
          ]
        }
      ],
      "source": [
        "current_directory = os.getcwd() \n",
        "parent_directory = os.path.abspath(os.path.join(current_directory, os.pardir))\n",
        "print(\"Parent directory:\", parent_directory)\n",
        "# Data_directory = parent_directory + \"/Data\" + \"/FuelConsumptionCo2.csv\"\n",
        "Data_directory = parent_directory + \"/Data\" + \"/dataset_reduce_PI_MG.csv\"\n",
        "print(Data_directory)"
      ]
    },
    {
      "cell_type": "code",
      "execution_count": 3,
      "metadata": {
        "button": false,
        "new_sheet": false,
        "run_control": {
          "read_only": false
        },
        "trusted": true
      },
      "outputs": [
        {
          "data": {
            "text/html": [
              "<div>\n",
              "<style scoped>\n",
              "    .dataframe tbody tr th:only-of-type {\n",
              "        vertical-align: middle;\n",
              "    }\n",
              "\n",
              "    .dataframe tbody tr th {\n",
              "        vertical-align: top;\n",
              "    }\n",
              "\n",
              "    .dataframe thead th {\n",
              "        text-align: right;\n",
              "    }\n",
              "</style>\n",
              "<table border=\"1\" class=\"dataframe\">\n",
              "  <thead>\n",
              "    <tr style=\"text-align: right;\">\n",
              "      <th></th>\n",
              "      <th>tau</th>\n",
              "      <th>theta</th>\n",
              "      <th>MVI</th>\n",
              "      <th>Deli</th>\n",
              "      <th>AcorAr</th>\n",
              "      <th>MG</th>\n",
              "    </tr>\n",
              "  </thead>\n",
              "  <tbody>\n",
              "    <tr>\n",
              "      <th>0</th>\n",
              "      <td>455</td>\n",
              "      <td>181</td>\n",
              "      <td>0.999982</td>\n",
              "      <td>0.999978</td>\n",
              "      <td>4329.209163</td>\n",
              "      <td>34.101803</td>\n",
              "    </tr>\n",
              "    <tr>\n",
              "      <th>1</th>\n",
              "      <td>155</td>\n",
              "      <td>181</td>\n",
              "      <td>0.999983</td>\n",
              "      <td>0.999979</td>\n",
              "      <td>14369.155960</td>\n",
              "      <td>68.099895</td>\n",
              "    </tr>\n",
              "    <tr>\n",
              "      <th>2</th>\n",
              "      <td>505</td>\n",
              "      <td>41</td>\n",
              "      <td>0.999849</td>\n",
              "      <td>0.999848</td>\n",
              "      <td>188.722445</td>\n",
              "      <td>26.957749</td>\n",
              "    </tr>\n",
              "    <tr>\n",
              "      <th>3</th>\n",
              "      <td>155</td>\n",
              "      <td>181</td>\n",
              "      <td>0.999989</td>\n",
              "      <td>0.999984</td>\n",
              "      <td>14285.013080</td>\n",
              "      <td>68.099895</td>\n",
              "    </tr>\n",
              "    <tr>\n",
              "      <th>4</th>\n",
              "      <td>405</td>\n",
              "      <td>1</td>\n",
              "      <td>0.993893</td>\n",
              "      <td>0.993642</td>\n",
              "      <td>1.584990</td>\n",
              "      <td>39.497033</td>\n",
              "    </tr>\n",
              "    <tr>\n",
              "      <th>5</th>\n",
              "      <td>155</td>\n",
              "      <td>81</td>\n",
              "      <td>0.999956</td>\n",
              "      <td>0.999955</td>\n",
              "      <td>2639.801359</td>\n",
              "      <td>39.668763</td>\n",
              "    </tr>\n",
              "    <tr>\n",
              "      <th>6</th>\n",
              "      <td>655</td>\n",
              "      <td>81</td>\n",
              "      <td>0.999938</td>\n",
              "      <td>0.999937</td>\n",
              "      <td>604.255478</td>\n",
              "      <td>26.515426</td>\n",
              "    </tr>\n",
              "    <tr>\n",
              "      <th>7</th>\n",
              "      <td>255</td>\n",
              "      <td>1</td>\n",
              "      <td>0.993800</td>\n",
              "      <td>0.993558</td>\n",
              "      <td>0.723344</td>\n",
              "      <td>37.972201</td>\n",
              "    </tr>\n",
              "    <tr>\n",
              "      <th>8</th>\n",
              "      <td>205</td>\n",
              "      <td>181</td>\n",
              "      <td>0.999982</td>\n",
              "      <td>0.999979</td>\n",
              "      <td>11070.028630</td>\n",
              "      <td>57.033900</td>\n",
              "    </tr>\n",
              "  </tbody>\n",
              "</table>\n",
              "</div>"
            ],
            "text/plain": [
              "   tau  theta       MVI      Deli        AcorAr         MG\n",
              "0  455    181  0.999982  0.999978   4329.209163  34.101803\n",
              "1  155    181  0.999983  0.999979  14369.155960  68.099895\n",
              "2  505     41  0.999849  0.999848    188.722445  26.957749\n",
              "3  155    181  0.999989  0.999984  14285.013080  68.099895\n",
              "4  405      1  0.993893  0.993642      1.584990  39.497033\n",
              "5  155     81  0.999956  0.999955   2639.801359  39.668763\n",
              "6  655     81  0.999938  0.999937    604.255478  26.515426\n",
              "7  255      1  0.993800  0.993558      0.723344  37.972201\n",
              "8  205    181  0.999982  0.999979  11070.028630  57.033900"
            ]
          },
          "execution_count": 3,
          "metadata": {},
          "output_type": "execute_result"
        }
      ],
      "source": [
        "df = pd.read_csv(Data_directory)\n",
        "# cdf = df[['ENGINESIZE','CYLINDERS','FUELCONSUMPTION_CITY','FUELCONSUMPTION_HWY','FUELCONSUMPTION_COMB','CO2EMISSIONS']]\n",
        "cdf = df[['tau','theta','MVI','Deli', 'AcorAr','MG']]\n",
        "cdf.head(9)"
      ]
    },
    {
      "cell_type": "code",
      "execution_count": 4,
      "metadata": {
        "button": false,
        "new_sheet": false,
        "run_control": {
          "read_only": false
        },
        "scrolled": true,
        "trusted": true
      },
      "outputs": [
        {
          "data": {
            "image/png": "[encoded data removed]",
            "text/plain": [
              "<Figure size 640x480 with 1 Axes>"
            ]
          },
          "metadata": {},
          "output_type": "display_data"
        }
      ],
      "source": [
        "# plt.scatter(cdf.ENGINESIZE, cdf.CO2EMISSIONS,  color='blue')\n",
        "# plt.xlabel(\"Engine size\")\n",
        "# plt.ylabel(\"Emission\")\n",
        "# plt.show()\n",
        "\n",
        "plt.scatter(cdf.AcorAr, cdf.MG,  color='blue')\n",
        "plt.xlabel(\"AcorAr\")\n",
        "plt.ylabel(\"MG\")\n",
        "plt.show()"
      ]
    },
    {
      "attachments": {},
      "cell_type": "markdown",
      "metadata": {
        "button": false,
        "new_sheet": false,
        "run_control": {
          "read_only": false
        }
      },
      "source": [
        "#### Creating train and test dataset\n",
        "\n"
      ]
    },
    {
      "cell_type": "code",
      "execution_count": 5,
      "metadata": {
        "button": false,
        "new_sheet": false,
        "run_control": {
          "read_only": false
        },
        "trusted": true
      },
      "outputs": [],
      "source": [
        "msk = np.random.rand(len(df)) < 0.8\n",
        "train = cdf[msk]\n",
        "test = cdf[~msk]\n",
        "\n",
        "# col= ['ENGINESIZE','CYLINDERS','FUELCONSUMPTION_COMB']\n",
        "# X_train = np.asanyarray(train[col])\n",
        "# y_train = np.asanyarray(train[['CO2EMISSIONS']])\n",
        "# X_test= np.asanyarray(test[col])\n",
        "# y_test = np.asanyarray(test[['CO2EMISSIONS']])\n",
        "# X=np.concatenate([X_test, X_train], axis=0) \n",
        "# y=np.concatenate([y_test, y_train], axis=0)\n",
        "\n",
        "col= ['tau','theta','MVI','Deli', 'AcorAr']    \n",
        "X_train = np.asanyarray(train[col])\n",
        "y_train = np.asanyarray(train[['MG']])\n",
        "X_test= np.asanyarray(test[col])\n",
        "y_test = np.asanyarray(test[['MG']])\n",
        "X=np.concatenate([X_test, X_train], axis=0)\n",
        "y=np.concatenate([y_test, y_train], axis=0)"
      ]
    },
    {
      "attachments": {},
      "cell_type": "markdown",
      "metadata": {
        "button": false,
        "new_sheet": false,
        "run_control": {
          "read_only": false
        }
      },
      "source": [
        "## **POLY Regression**\n"
      ]
    },
    {
      "cell_type": "code",
      "execution_count": 24,
      "metadata": {},
      "outputs": [],
      "source": [
        "poly_features = PolynomialFeatures(degree=2)\n"
      ]
    },
    {
      "cell_type": "code",
      "execution_count": 25,
      "metadata": {},
      "outputs": [
        {
          "data": {
            "text/plain": [
              "array([[4.55000000e+02, 1.81000000e+02, 9.99981668e-01, 9.99977956e-01,\n",
              "        4.32920916e+03],\n",
              "       [1.55000000e+02, 1.81000000e+02, 9.99982636e-01, 9.99978989e-01,\n",
              "        1.43691560e+04],\n",
              "       [5.05000000e+02, 4.10000000e+01, 9.99848834e-01, 9.99848355e-01,\n",
              "        1.88722445e+02],\n",
              "       ...,\n",
              "       [5.55000000e+02, 1.81000000e+02, 9.99974240e-01, 9.99973617e-01,\n",
              "        3.33533260e+03],\n",
              "       [4.55000000e+02, 4.10000000e+01, 9.99849014e-01, 9.99846489e-01,\n",
              "        2.14795397e+02],\n",
              "       [4.55000000e+02, 4.10000000e+01, 9.99844020e-01, 9.99843998e-01,\n",
              "        1.83063300e+02]])"
            ]
          },
          "execution_count": 25,
          "metadata": {},
          "output_type": "execute_result"
        }
      ],
      "source": [
        "X_train"
      ]
    },
    {
      "cell_type": "code",
      "execution_count": 26,
      "metadata": {},
      "outputs": [
        {
          "data": {
            "text/plain": [
              "(618, 5)"
            ]
          },
          "execution_count": 26,
          "metadata": {},
          "output_type": "execute_result"
        }
      ],
      "source": [
        "np.shape(X_train)"
      ]
    },
    {
      "cell_type": "code",
      "execution_count": 27,
      "metadata": {},
      "outputs": [
        {
          "data": {
            "text/plain": [
              "array([[1.00000000e+00, 4.55000000e+02, 1.81000000e+02, ...,\n",
              "        9.99955912e-01, 4.32911373e+03, 1.87420520e+07],\n",
              "       [1.00000000e+00, 1.55000000e+02, 1.81000000e+02, ...,\n",
              "        9.99957978e-01, 1.43688540e+04, 2.06472643e+08],\n",
              "       [1.00000000e+00, 5.05000000e+02, 4.10000000e+01, ...,\n",
              "        9.99696733e-01, 1.88693827e+02, 3.56161614e+04],\n",
              "       ...,\n",
              "       [1.00000000e+00, 5.55000000e+02, 1.81000000e+02, ...,\n",
              "        9.99947235e-01, 3.33524461e+03, 1.11244436e+07],\n",
              "       [1.00000000e+00, 4.55000000e+02, 4.10000000e+01, ...,\n",
              "        9.99693002e-01, 2.14762423e+02, 4.61370625e+04],\n",
              "       [1.00000000e+00, 4.55000000e+02, 4.10000000e+01, ...,\n",
              "        9.99688020e-01, 1.83034742e+02, 3.35121720e+04]])"
            ]
          },
          "execution_count": 27,
          "metadata": {},
          "output_type": "execute_result"
        }
      ],
      "source": [
        "x_train_poly = poly_features.fit_transform(X_train)\n",
        "x_train_poly "
      ]
    },
    {
      "cell_type": "code",
      "execution_count": 23,
      "metadata": {},
      "outputs": [
        {
          "data": {
            "text/plain": [
              "(618, 56)"
            ]
          },
          "execution_count": 23,
          "metadata": {},
          "output_type": "execute_result"
        }
      ],
      "source": [
        "np.shape(x_train_poly)"
      ]
    },
    {
      "cell_type": "code",
      "execution_count": 16,
      "metadata": {},
      "outputs": [
        {
          "data": {
            "text/plain": [
              "array([4.55000000e+02, 1.81000000e+02, 9.99981668e-01, 9.99977956e-01,\n",
              "       4.32920916e+03])"
            ]
          },
          "execution_count": 16,
          "metadata": {},
          "output_type": "execute_result"
        }
      ],
      "source": [
        "X_train[0]"
      ]
    },
    {
      "cell_type": "code",
      "execution_count": 18,
      "metadata": {},
      "outputs": [
        {
          "data": {
            "text/plain": [
              "82355.0"
            ]
          },
          "execution_count": 18,
          "metadata": {},
          "output_type": "execute_result"
        }
      ],
      "source": [
        "4.55000000e+02*1.81000000e+02"
      ]
    },
    {
      "cell_type": "code",
      "execution_count": 17,
      "metadata": {},
      "outputs": [
        {
          "data": {
            "text/plain": [
              "array([1.00000000e+00, 4.55000000e+02, 1.81000000e+02, 9.99981668e-01,\n",
              "       9.99977956e-01, 4.32920916e+03, 2.07025000e+05, 8.23550000e+04,\n",
              "       4.54991659e+02, 4.54989970e+02, 1.96979017e+06, 3.27610000e+04,\n",
              "       1.80996682e+02, 1.80996010e+02, 7.83586859e+05, 9.99963336e-01,\n",
              "       9.99959624e-01, 4.32912980e+03, 9.99955912e-01, 4.32911373e+03,\n",
              "       1.87420520e+07])"
            ]
          },
          "execution_count": 17,
          "metadata": {},
          "output_type": "execute_result"
        }
      ],
      "source": [
        "x_train_poly[0]"
      ]
    },
    {
      "cell_type": "code",
      "execution_count": 30,
      "metadata": {},
      "outputs": [
        {
          "name": "stdout",
          "output_type": "stream",
          "text": [
            "Coeficiente de determinación R² en validación: 0.9844761005672698\n",
            "Residual sum of squares: 1.69\n",
            "R2-score: 0.98\n"
          ]
        }
      ],
      "source": [
        "# Aplicar regresión polinómica de grado 2 en los datos de entrenamiento\n",
        "poly_features = PolynomialFeatures(degree=2)\n",
        "x_train_poly = poly_features.fit_transform(X_train)\n",
        "\n",
        "model = LinearRegression()\n",
        "model.fit(x_train_poly, y_train)\n",
        "\n",
        "# Predicción en el conjunto de validación\n",
        "x_val_poly = poly_features.transform(X_test)\n",
        "y_pred_val = model.predict(x_val_poly)\n",
        "\n",
        "# Calcular el coeficiente de determinación R² en el conjunto de validación\n",
        "y_val=y_test\n",
        "r2 = r2_score(y_val, y_pred_val)\n",
        "print(\"Coeficiente de determinación R² en validación:\", r2)\n",
        "\n",
        "y_hat =y_pred_val\n",
        "x1 = np.asanyarray(X_test)\n",
        "y1 = np.asanyarray(y_test)\n",
        "print(\"Residual sum of squares: %.2f\"\n",
        "      % np.mean((y_hat - y1) ** 2))\n",
        "\n",
        "\n",
        "print(\"R2-score: %.2f\" % r2_score(y_hat ,y1) )"
      ]
    },
    {
      "cell_type": "code",
      "execution_count": 31,
      "metadata": {},
      "outputs": [
        {
          "data": {
            "text/plain": [
              "21"
            ]
          },
          "execution_count": 31,
          "metadata": {},
          "output_type": "execute_result"
        }
      ],
      "source": [
        "len(model.coef_[0])"
      ]
    },
    {
      "cell_type": "code",
      "execution_count": 35,
      "metadata": {},
      "outputs": [
        {
          "name": "stdout",
          "output_type": "stream",
          "text": [
            "---------------------------GRADO-10-------------------------------------------\n",
            "Coeficiente de determinación R² en validación: 0.6910708974217445\n",
            "---------------------------GRADO-11-------------------------------------------\n",
            "Coeficiente de determinación R² en validación: 0.6299751484772944\n",
            "---------------------------GRADO-12-------------------------------------------\n",
            "Coeficiente de determinación R² en validación: 0.5359483158059433\n",
            "---------------------------GRADO-13-------------------------------------------\n",
            "Coeficiente de determinación R² en validación: 0.44626978269983175\n",
            "---------------------------GRADO-14-------------------------------------------\n",
            "Coeficiente de determinación R² en validación: 0.4114233398589112\n",
            "---------------------------GRADO-15-------------------------------------------\n",
            "Coeficiente de determinación R² en validación: 0.42470441106262236\n",
            "---------------------------GRADO-16-------------------------------------------\n",
            "Coeficiente de determinación R² en validación: 0.3890104438719648\n",
            "---------------------------GRADO-17-------------------------------------------\n",
            "Coeficiente de determinación R² en validación: 0.18989728456719013\n",
            "---------------------------GRADO-18-------------------------------------------\n",
            "Coeficiente de determinación R² en validación: 0.4085900119204974\n",
            "---------------------------GRADO-19-------------------------------------------\n",
            "Coeficiente de determinación R² en validación: -2.854191918162149\n"
          ]
        }
      ],
      "source": [
        "for i in range(10,20):\n",
        "    print(\"---------------------------\"+ \"GRADO-\" + str(i)+ '-------------------------------------------')\n",
        "    # Aplicar regresión polinómica de grado 2 en los datos de entrenamiento\n",
        "    poly_features = PolynomialFeatures(degree=i)\n",
        "    x_train_poly = poly_features.fit_transform(X_train)\n",
        "\n",
        "    model = LinearRegression()\n",
        "    model.fit(x_train_poly, y_train)\n",
        "\n",
        "    # Predicción en el conjunto de validación\n",
        "    x_val_poly = poly_features.transform(X_test)\n",
        "    y_pred_val = model.predict(x_val_poly)\n",
        "\n",
        "    # Calcular el coeficiente de determinación R² en el conjunto de validación\n",
        "    y_val=y_test\n",
        "    r2 = r2_score(y_val, y_pred_val)\n",
        "    print(\"Coeficiente de determinación R² en validación:\", r2)"
      ]
    },
    {
      "cell_type": "code",
      "execution_count": 72,
      "metadata": {},
      "outputs": [],
      "source": [
        "# Pipeline helps you associate two models or objects to be built sequentially with each other,  # https://towardsdatascience.com/building-generator-pipelines-in-python-8931535792ff\n",
        "from sklearn.pipeline import Pipeline\n",
        "from sklearn import metrics\n",
        "from sklearn.metrics import r2_score , mean_squared_error\n",
        "mse = []\n",
        "coeff = []\n",
        "icpt = []\n",
        "r2_score = []\n",
        "\n",
        "\n",
        "pipeline = Pipeline([('poly_features', PolynomialFeatures(degree=2)),\n",
        "                     ('model', LinearRegression())])\n",
        "pipeline.fit(X, y)\n",
        "y_pred = pipeline.predict(X)\n",
        "    \n",
        "r2_score.append(metrics.r2_score(y, y_pred))\n",
        "mse.append(mean_squared_error(y, y_pred, squared=False))  \n",
        "coeff.append(pipeline.steps[1][1].coef_) \n",
        "icpt.append(pipeline.steps[1][1].intercept_) "
      ]
    },
    {
      "cell_type": "code",
      "execution_count": 73,
      "metadata": {},
      "outputs": [
        {
          "data": {
            "text/html": [
              "<div>\n",
              "<style scoped>\n",
              "    .dataframe tbody tr th:only-of-type {\n",
              "        vertical-align: middle;\n",
              "    }\n",
              "\n",
              "    .dataframe tbody tr th {\n",
              "        vertical-align: top;\n",
              "    }\n",
              "\n",
              "    .dataframe thead th {\n",
              "        text-align: right;\n",
              "    }\n",
              "</style>\n",
              "<table border=\"1\" class=\"dataframe\">\n",
              "  <thead>\n",
              "    <tr style=\"text-align: right;\">\n",
              "      <th></th>\n",
              "      <th>degrees</th>\n",
              "      <th>Coefficients</th>\n",
              "      <th>Intercepts</th>\n",
              "    </tr>\n",
              "  </thead>\n",
              "  <tbody>\n",
              "    <tr>\n",
              "      <th>0</th>\n",
              "      <td>1</td>\n",
              "      <td>[[0.0, 0.24840279614712069, -1270.1924315015751, 3670980.7649022373, -3675598.669539652, 33.6905356365079, -7.782327486237633e-06, 0.00016362297467889615, 49.092408908362, -49.33515769595862, -1.3044975217054774e-05, 0.0005408748791316111, -1194.9195092466264, 2464.904471337228, 3.16103757869734e-06, -1795347.866005038, -109202.40673641446, 34.905105968761596, 1906508.7706174501, -68.58850513611092, -2.1853641540836577e-07]]</td>\n",
              "      <td>[2696.7930695844057]</td>\n",
              "    </tr>\n",
              "  </tbody>\n",
              "</table>\n",
              "</div>"
            ],
            "text/plain": [
              "   degrees  \\\n",
              "0        1   \n",
              "\n",
              "                                                                                                                                                                                                                                                                                                                                                                                                                                   Coefficients  \\\n",
              "0  [[0.0, 0.24840279614712069, -1270.1924315015751, 3670980.7649022373, -3675598.669539652, 33.6905356365079, -7.782327486237633e-06, 0.00016362297467889615, 49.092408908362, -49.33515769595862, -1.3044975217054774e-05, 0.0005408748791316111, -1194.9195092466264, 2464.904471337228, 3.16103757869734e-06, -1795347.866005038, -109202.40673641446, 34.905105968761596, 1906508.7706174501, -68.58850513611092, -2.1853641540836577e-07]]   \n",
              "\n",
              "             Intercepts  \n",
              "0  [2696.7930695844057]  "
            ]
          },
          "execution_count": 73,
          "metadata": {},
          "output_type": "execute_result"
        }
      ],
      "source": [
        "# respective coefficients/intercepts for different degrees\n",
        "pd.set_option('display.max_colwidth', None)\n",
        "\n",
        "param = pd.DataFrame(list(zip(degrees, coeff, icpt)), columns = ['degrees', 'Coefficients', 'Intercepts'])\n",
        "param"
      ]
    },
    {
      "cell_type": "code",
      "execution_count": 74,
      "metadata": {},
      "outputs": [
        {
          "data": {
            "text/plain": [
              "[0.9890131731004127]"
            ]
          },
          "execution_count": 74,
          "metadata": {},
          "output_type": "execute_result"
        }
      ],
      "source": [
        "r2_score"
      ]
    }
  ],
  "metadata": {
    "kernelspec": {
      "display_name": "Python 3",
      "language": "python",
      "name": "python3"
    },
    "language_info": {
      "codemirror_mode": {
        "name": "ipython",
        "version": 3
      },
      "file_extension": ".py",
      "mimetype": "text/x-python",
      "name": "python",
      "nbconvert_exporter": "python",
      "pygments_lexer": "ipython3",
      "version": "3.11.3"
    }
  },
  "nbformat": 4,
  "nbformat_minor": 4
}
